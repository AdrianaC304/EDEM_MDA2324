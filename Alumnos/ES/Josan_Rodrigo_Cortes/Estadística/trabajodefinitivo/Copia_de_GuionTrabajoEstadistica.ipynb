{
  "nbformat": 4,
  "nbformat_minor": 0,
  "metadata": {
    "colab": {
      "provenance": []
    },
    "kernelspec": {
      "name": "python3",
      "display_name": "Python 3"
    },
    "language_info": {
      "name": "python"
    }
  },
  "cells": [
    {
      "cell_type": "code",
      "execution_count": null,
      "metadata": {
        "id": "aEz90LGfTGAi"
      },
      "outputs": [],
      "source": []
    },
    {
      "cell_type": "markdown",
      "source": [
        "Guion :\n",
        "\n"
      ],
      "metadata": {
        "id": "tHxmiLdHTGls"
      }
    },
    {
      "cell_type": "markdown",
      "source": [
        "1. Elección de datos y breve descripción de su naturaleza (¿de qué tratan?).\n",
        "\n",
        "- Objetivos generales\n",
        "\n",
        "- Objetivos particulares\n",
        "\n",
        "- Dataset elegido"
      ],
      "metadata": {
        "id": "vfyNIuSgTMKK"
      }
    },
    {
      "cell_type": "markdown",
      "source": [
        "2. Descriptiva univariante y bivariante de los datos teniendo en cuenta su tipo\n",
        "\n",
        "- Tipos de variables\n",
        "\n",
        "- Medidas descriptivas univariantes, de posición y dispersión\n",
        "\n",
        "- Medidas descriptivas bivariantes: covarianza y coeficiente de Pearson\n",
        "\n",
        "- Otros: tablas de frecuencias relativas y absolutas, graficos de barras e histogramas, density, boxplot, describe, whisker, coef. correlación, matriz de correlación, no sé si puede valer la pena descomponer alguna variable en nuestro caso."
      ],
      "metadata": {
        "id": "-OGZflluTMtp"
      }
    },
    {
      "cell_type": "markdown",
      "source": [
        "3. Comprobación de la normalidad de alguna/s variable/s del conjunto de datos.\n"
      ],
      "metadata": {
        "id": "_BbAoLdjTO94"
      }
    },
    {
      "cell_type": "markdown",
      "source": [
        "4. Estimación puntual y por intervalos de los parámetros poblacionales de\n",
        "algunas variables.\n",
        "\n",
        "- En este punto necesitaremos decidir si nuestros datos son una muestra para hacer inferencia sobre la población o la población.\n",
        "\n",
        "- Intervalos de confianza en la estimación de parametros. Z=sigma/raiz2n\n",
        "\n",
        "- Creacion de intervalos de confianza tanto con la normal como con la t\n"
      ],
      "metadata": {
        "id": "QebQhEZrTUt-"
      }
    },
    {
      "cell_type": "markdown",
      "source": [
        "5. Realización de contrastes de hipótesis oportunos para realizar inferencia con\n",
        "los datos\n",
        "- Normalidad de las muestras o población\n",
        "\n",
        "- Media\n",
        "\n",
        "- Varianza"
      ],
      "metadata": {
        "id": "s2Xf1P_3TX9X"
      }
    },
    {
      "cell_type": "markdown",
      "source": [
        "Realización de ANOVA (cond. de aplicabilidad, ANOVA, post-hoc) para obtener conclusiones de los datos\n",
        "Ya tenemos la anova de ayer y esta genial, ver otras posibilidades.\n",
        "\n",
        "Analisis de homocedasticidad y justificación.\n",
        "\n",
        "Justificación del uso de la ANOVA"
      ],
      "metadata": {
        "id": "HMlNiOY5TaV9"
      }
    },
    {
      "cell_type": "markdown",
      "source": [
        "7. Cosas que podríamos añadir y que he visto en los apuntes:\n",
        "\n",
        "- Potencia de lo test utilizados\n",
        "\n",
        "- Representación de los errores tipo I y II\n",
        "\n",
        "- Muestras pareadas.\n",
        "\n",
        "- Plot de las diferentes muestras y sus intérvalos de confianza.\n",
        "\n",
        "- Revisar exponencial\n",
        "\n",
        "- Pensar en si podemos convertir alguna variable en una binomial.\n",
        "\n",
        "- Investigar cualquier otra via, posibilidad de extrapolar a una posible población más grande los resultados de nuestra población."
      ],
      "metadata": {
        "id": "-4OrhpvzTc5p"
      }
    },
    {
      "cell_type": "markdown",
      "source": [
        "tips:\n",
        "Sumario a la izquierda\n",
        "Objetivos: generales y especificos\n",
        "Materiales dataset, metodología, todos las pruebas que se van a realizar y el objetivo de ellas\n",
        "Resultados, analisis y librerias\n",
        "Definición de variables: clining del dataset\n",
        "descriptiva variante y bivariante una de cada tipo de variable\n",
        "Comentar relaciones causa efecto pero no categorizando los datos\n",
        "Explicar los gráficos\n",
        "Diferentes tipos de gráficos\n",
        "Comentar los resultados de cada ejecución\n",
        "Estudio de normalidad: hombres, mujeres y todos\n",
        "Contrastes de hipotesis\n",
        "Inferencia estadistica, puntual y por intervalos\n",
        "Contrastes de hipotesis\n",
        "Anova, condiciones de aplicabilidad, etc..\n",
        "Conclusiones, lo más importante"
      ],
      "metadata": {
        "id": "V4qu-WwJTggj"
      }
    }
  ]
}