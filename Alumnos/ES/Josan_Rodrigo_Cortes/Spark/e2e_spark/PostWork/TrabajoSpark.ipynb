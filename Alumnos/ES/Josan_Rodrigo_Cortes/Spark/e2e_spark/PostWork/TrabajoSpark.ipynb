{
  "cells": [
    {
      "cell_type": "markdown",
      "metadata": {
        "id": "BNkZfzfxGZ0z"
      },
      "source": [
        "# Windows Partitioning"
      ]
    },
    {
      "cell_type": "markdown",
      "metadata": {
        "id": "AQieQ5pkGfNm"
      },
      "source": [
        "## Prerrequisites"
      ]
    },
    {
      "cell_type": "markdown",
      "metadata": {
        "id": "HelxRmCPGpql"
      },
      "source": [
        "Install Spark and Java in VM"
      ]
    },
    {
      "cell_type": "code",
      "execution_count": null,
      "metadata": {
        "id": "9Cn3c-ywGtDV"
      },
      "outputs": [],
      "source": [
        "# install Java8\n",
        "!apt-get install openjdk-8-jdk-headless -qq > /dev/null\n",
        "# download spark 3.5.0\n",
        "!wget -q https://apache.osuosl.org/spark/spark-3.5.0/spark-3.5.0-bin-hadoop3.tgz"
      ]
    },
    {
      "cell_type": "code",
      "execution_count": null,
      "metadata": {
        "colab": {
          "base_uri": "https://localhost:8080/"
        },
        "id": "D95sNcJfGvyV",
        "outputId": "87a96e0e-b186-4d47-8858-2891ca41b689"
      },
      "outputs": [
        {
          "output_type": "stream",
          "name": "stdout",
          "text": [
            "total 782040\n",
            "drwx------  5 root root      4096 Jan 18 10:19 \u001b[0m\u001b[01;34mdrive\u001b[0m/\n",
            "drwxr-xr-x  1 root root      4096 Jan 16 14:23 \u001b[01;34msample_data\u001b[0m/\n",
            "drwxr-xr-x 13 1000 1000      4096 Sep  9 02:08 \u001b[01;34mspark-3.5.0-bin-hadoop3\u001b[0m/\n",
            "-rw-r--r--  1 root root 400395283 Sep  9 02:10 spark-3.5.0-bin-hadoop3.tgz\n",
            "-rw-r--r--  1 root root 400395283 Sep  9 02:10 spark-3.5.0-bin-hadoop3.tgz.1\n"
          ]
        }
      ],
      "source": [
        "ls -l # check the .tgz is there"
      ]
    },
    {
      "cell_type": "code",
      "execution_count": null,
      "metadata": {
        "id": "qtBMGi7EGvwN"
      },
      "outputs": [],
      "source": [
        "# unzip it\n",
        "!tar xf spark-3.5.0-bin-hadoop3.tgz"
      ]
    },
    {
      "cell_type": "code",
      "execution_count": null,
      "metadata": {
        "id": "6JO331NrGvtt"
      },
      "outputs": [],
      "source": [
        "!pip install -q findspark"
      ]
    },
    {
      "cell_type": "markdown",
      "metadata": {
        "id": "02epIDkbG24d"
      },
      "source": [
        "Defining the environment"
      ]
    },
    {
      "cell_type": "code",
      "execution_count": null,
      "metadata": {
        "id": "qmON5zHJG4-m"
      },
      "outputs": [],
      "source": [
        "import os\n",
        "os.environ[\"JAVA_HOME\"] = \"/usr/lib/jvm/java-8-openjdk-amd64\"\n",
        "os.environ[\"SPARK_HOME\"] = \"/content/spark-3.5.0-bin-hadoop3\"\n",
        "os.environ[\"PYSPARK_SUBMIT_ARGS\"] = \"--master local[*] pyspark-shell\""
      ]
    },
    {
      "cell_type": "markdown",
      "metadata": {
        "id": "WgvNJQOAGZ00"
      },
      "source": [
        "Start Spark Session\n",
        "\n",
        "---"
      ]
    },
    {
      "cell_type": "code",
      "execution_count": null,
      "metadata": {
        "colab": {
          "base_uri": "https://localhost:8080/",
          "height": 35
        },
        "id": "siaPZq4XGZ00",
        "outputId": "19ab6e80-fe2f-4287-a67a-b9c6cbaa72ab"
      },
      "outputs": [
        {
          "output_type": "execute_result",
          "data": {
            "text/plain": [
              "'3.5.0'"
            ],
            "application/vnd.google.colaboratory.intrinsic+json": {
              "type": "string"
            }
          },
          "metadata": {},
          "execution_count": 20
        }
      ],
      "source": [
        "import findspark\n",
        "findspark.init(\"spark-3.5.0-bin-hadoop3\")# SPARK_HOME\n",
        "\n",
        "from pyspark.sql import SparkSession\n",
        "\n",
        "# create the session\n",
        "spark = SparkSession \\\n",
        "        .builder \\\n",
        "        .appName(\"Window Partitioning\") \\\n",
        "        .master(\"local[*]\") \\\n",
        "        .getOrCreate()\n",
        "\n",
        "spark.version"
      ]
    },
    {
      "cell_type": "code",
      "execution_count": null,
      "metadata": {
        "colab": {
          "base_uri": "https://localhost:8080/",
          "height": 219
        },
        "id": "nsBkpLh6GZ01",
        "outputId": "16a5ee5d-3ae6-4b27-ed71-853693ce836f"
      },
      "outputs": [
        {
          "output_type": "execute_result",
          "data": {
            "text/plain": [
              "<pyspark.sql.session.SparkSession at 0x79d0ebf52b90>"
            ],
            "text/html": [
              "\n",
              "            <div>\n",
              "                <p><b>SparkSession - in-memory</b></p>\n",
              "                \n",
              "        <div>\n",
              "            <p><b>SparkContext</b></p>\n",
              "\n",
              "            <p><a href=\"http://50e2931aa5ae:4040\">Spark UI</a></p>\n",
              "\n",
              "            <dl>\n",
              "              <dt>Version</dt>\n",
              "                <dd><code>v3.5.0</code></dd>\n",
              "              <dt>Master</dt>\n",
              "                <dd><code>local[*]</code></dd>\n",
              "              <dt>AppName</dt>\n",
              "                <dd><code>Window Partitioning</code></dd>\n",
              "            </dl>\n",
              "        </div>\n",
              "        \n",
              "            </div>\n",
              "        "
            ]
          },
          "metadata": {},
          "execution_count": 21
        }
      ],
      "source": [
        "spark"
      ]
    },
    {
      "cell_type": "code",
      "execution_count": null,
      "metadata": {
        "id": "Bqu4fQnNGZ02"
      },
      "outputs": [],
      "source": [
        "# For Pandas conversion optimization\n",
        "spark.conf.set(\"spark.sql.execution.arrow.enabled\", \"true\")"
      ]
    },
    {
      "cell_type": "code",
      "execution_count": null,
      "metadata": {
        "id": "-9DDmYQKGZ02"
      },
      "outputs": [],
      "source": [
        "# Import sql functions\n",
        "from pyspark.sql.functions import *"
      ]
    },
    {
      "cell_type": "code",
      "source": [
        "from google.colab import drive\n",
        "drive.mount('/content/drive')"
      ],
      "metadata": {
        "colab": {
          "base_uri": "https://localhost:8080/"
        },
        "id": "sC_MTPKjETda",
        "outputId": "65798e98-7745-4978-c276-309f0e2089e0"
      },
      "execution_count": null,
      "outputs": [
        {
          "output_type": "stream",
          "name": "stdout",
          "text": [
            "Drive already mounted at /content/drive; to attempt to forcibly remount, call drive.mount(\"/content/drive\", force_remount=True).\n"
          ]
        }
      ]
    },
    {
      "cell_type": "markdown",
      "source": [],
      "metadata": {
        "id": "kJbPaj8gETEu"
      }
    },
    {
      "cell_type": "markdown",
      "metadata": {
        "id": "NYrtXWZIHKMt"
      },
      "source": [
        "Download datasets"
      ]
    },
    {
      "cell_type": "code",
      "source": [
        "realStateDF= spark.read.option(\"header\", \"true\").option(\"delimiter\", \";\").csv(\"/content/drive/MyDrive/Real Estate Dataset.csv\")\n",
        "realStateDF.show(3)\n",
        "realStateDF.printSchema()"
      ],
      "metadata": {
        "colab": {
          "base_uri": "https://localhost:8080/"
        },
        "id": "hX9hiq7IsEuB",
        "outputId": "b61c98b4-eb3f-4976-b983-636eda5adb51"
      },
      "execution_count": null,
      "outputs": [
        {
          "output_type": "stream",
          "name": "stdout",
          "text": [
            "+--------+------+-----+-----------+-----------------+------+---------+--------+-----+--------------------+----+------------+---------+-----------+-----------------+-----------+----------+-------------------+------------+-----+----+---------+------+------+----------------+-----+----------+\n",
            "|name_nsi| price|index|environment|quality_of_living|safety|transport|services|relax|           condition|area|energy_costs|provision|certificate|construction_type|orientation|year_built|last_reconstruction|total_floors|floor|lift|balkonies|loggia|cellar|            type|rooms|  district|\n",
            "+--------+------+-----+-----------+-----------------+------+---------+--------+-----+--------------------+----+------------+---------+-----------+-----------------+-----------+----------+-------------------+------------+-----+----+---------+------+------+----------------+-----+----------+\n",
            "|Semerovo| 42000|   NA|         NA|               NA|    NA|       NA|      NA|   NA|  Original condition|  58|          NA|        0|         NA|               NA|         NA|        NA|                 NA|          NA|   NA|   0|       NA|    NA|     0|3-room apartment|    3|Nové Zámky|\n",
            "|Semerovo| 42000|   NA|         NA|               NA|    NA|       NA|      NA|   NA|  Original condition|  58|          NA|        0|       none|            Brick|         NA|        NA|                 NA|           2|   NA|   0|       NA|    NA|     0|3-room apartment|    3|Nové Zámky|\n",
            "| Štúrovo|107000|  8,3|         NA|               NA|    NA|       NA|      NA|   NA|Partial reconstru...|  40|          NA|        0|         NA|               NA|         NA|        NA|                 NA|           5|    3|   0|       NA|    NA|     0|1-room apartment|    1|Nové Zámky|\n",
            "+--------+------+-----+-----------+-----------------+------+---------+--------+-----+--------------------+----+------------+---------+-----------+-----------------+-----------+----------+-------------------+------------+-----+----+---------+------+------+----------------+-----+----------+\n",
            "only showing top 3 rows\n",
            "\n",
            "root\n",
            " |-- name_nsi: string (nullable = true)\n",
            " |-- price: string (nullable = true)\n",
            " |-- index: string (nullable = true)\n",
            " |-- environment: string (nullable = true)\n",
            " |-- quality_of_living: string (nullable = true)\n",
            " |-- safety: string (nullable = true)\n",
            " |-- transport: string (nullable = true)\n",
            " |-- services: string (nullable = true)\n",
            " |-- relax: string (nullable = true)\n",
            " |-- condition: string (nullable = true)\n",
            " |-- area: string (nullable = true)\n",
            " |-- energy_costs: string (nullable = true)\n",
            " |-- provision: string (nullable = true)\n",
            " |-- certificate: string (nullable = true)\n",
            " |-- construction_type: string (nullable = true)\n",
            " |-- orientation: string (nullable = true)\n",
            " |-- year_built: string (nullable = true)\n",
            " |-- last_reconstruction: string (nullable = true)\n",
            " |-- total_floors: string (nullable = true)\n",
            " |-- floor: string (nullable = true)\n",
            " |-- lift: string (nullable = true)\n",
            " |-- balkonies: string (nullable = true)\n",
            " |-- loggia: string (nullable = true)\n",
            " |-- cellar: string (nullable = true)\n",
            " |-- type: string (nullable = true)\n",
            " |-- rooms: string (nullable = true)\n",
            " |-- district: string (nullable = true)\n",
            "\n"
          ]
        }
      ]
    },
    {
      "cell_type": "markdown",
      "source": [
        "Media y desviación típica del precio de las viviendas de la muestra:"
      ],
      "metadata": {
        "id": "n1iXFWATWygv"
      }
    },
    {
      "cell_type": "code",
      "source": [
        "realStateDF.select(avg(realStateDF.price)).show()\n",
        "realStateDF.select(stddev(realStateDF.price)).show()\n"
      ],
      "metadata": {
        "id": "khS_fK75W2t0",
        "colab": {
          "base_uri": "https://localhost:8080/"
        },
        "outputId": "c9585cf0-6350-4a2a-ef48-d84139c7c1e9"
      },
      "execution_count": null,
      "outputs": [
        {
          "output_type": "stream",
          "name": "stdout",
          "text": [
            "+------------------+\n",
            "|        avg(price)|\n",
            "+------------------+\n",
            "|165205.66818152307|\n",
            "+------------------+\n",
            "\n",
            "+-----------------+\n",
            "|    stddev(price)|\n",
            "+-----------------+\n",
            "|162973.6312769864|\n",
            "+-----------------+\n",
            "\n"
          ]
        }
      ]
    },
    {
      "cell_type": "markdown",
      "source": [
        "Filtro las viviendas del dataset que estan en 'Original condition'"
      ],
      "metadata": {
        "id": "Zq3pcTddRCE3"
      }
    },
    {
      "cell_type": "code",
      "source": [
        "realStatefiltradoDF=realStateDF.filter(col(\"condition\")==\"Original condition\")\n",
        "realStatefiltradoDF.show(3)"
      ],
      "metadata": {
        "colab": {
          "base_uri": "https://localhost:8080/"
        },
        "id": "qWhkEr6rRD8U",
        "outputId": "8b98c69a-5135-4eb2-ee40-21cdc6e3ce25"
      },
      "execution_count": null,
      "outputs": [
        {
          "output_type": "stream",
          "name": "stdout",
          "text": [
            "+--------+-----+-----+-----------+-----------------+------+---------+--------+-----+------------------+-----+------------+---------+-----------+-----------------+-----------+----------+-------------------+------------+-----+----+---------+------+------+----------------+-----+----------+---------+\n",
            "|name_nsi|price|index|environment|quality_of_living|safety|transport|services|relax|         condition| area|energy_costs|provision|certificate|construction_type|orientation|year_built|last_reconstruction|total_floors|floor|lift|balkonies|loggia|cellar|            type|rooms|  district|fila_enum|\n",
            "+--------+-----+-----+-----------+-----------------+------+---------+--------+-----+------------------+-----+------------+---------+-----------+-----------------+-----------+----------+-------------------+------------+-----+----+---------+------+------+----------------+-----+----------+---------+\n",
            "|Semerovo|42000|   NA|         NA|               NA|    NA|       NA|      NA|   NA|Original condition|   58|          NA|        0|         NA|               NA|         NA|        NA|                 NA|          NA|   NA|   0|       NA|    NA|     0|3-room apartment|    3|Nové Zámky|        0|\n",
            "|Semerovo|42000|   NA|         NA|               NA|    NA|       NA|      NA|   NA|Original condition|   58|          NA|        0|       none|            Brick|         NA|        NA|                 NA|           2|   NA|   0|       NA|    NA|     0|3-room apartment|    3|Nové Zámky|        1|\n",
            "| Štúrovo|82000|   NA|         NA|               NA|    NA|       NA|      NA|   NA|Original condition|63,45|          NA|        0|         NA|            Panel|  Southwest|        NA|                 NA|          NA|   NA|   1|       NA|    NA|     0|2-room apartment|    2|Nové Zámky|        8|\n",
            "+--------+-----+-----+-----------+-----------------+------+---------+--------+-----+------------------+-----+------------+---------+-----------+-----------------+-----------+----------+-------------------+------------+-----+----+---------+------+------+----------------+-----+----------+---------+\n",
            "only showing top 3 rows\n",
            "\n"
          ]
        }
      ]
    },
    {
      "cell_type": "markdown",
      "source": [
        "Numero de inmuebles por condición de estado:\n",
        "\n"
      ],
      "metadata": {
        "id": "mzH7zt6Cud_x"
      }
    },
    {
      "cell_type": "code",
      "source": [
        "realStateareasDF = realStateDF.groupBy(realStateDF.condition).count().orderBy(\"count\")\n",
        "realStateareasDF.show()"
      ],
      "metadata": {
        "id": "2LZ2kFEdZnaf",
        "colab": {
          "base_uri": "https://localhost:8080/"
        },
        "outputId": "d1fa0029-fee5-4ee8-9cf6-1bcac6fb6b58"
      },
      "execution_count": null,
      "outputs": [
        {
          "output_type": "stream",
          "name": "stdout",
          "text": [
            "+--------------------+-----+\n",
            "|           condition|count|\n",
            "+--------------------+-----+\n",
            "| Development project|   71|\n",
            "|                  NA|  327|\n",
            "|  Under construction|  441|\n",
            "|  Original condition| 2148|\n",
            "|Partial reconstru...| 3953|\n",
            "|        New building| 4074|\n",
            "|Complete reconstr...| 4389|\n",
            "+--------------------+-----+\n",
            "\n"
          ]
        }
      ]
    },
    {
      "cell_type": "markdown",
      "source": [
        "Numero de habitaciones por tipo de inmueble"
      ],
      "metadata": {
        "id": "T7ICoYvAasWV"
      }
    },
    {
      "cell_type": "code",
      "source": [
        "realStateroomsDF = realStateDF.groupBy(realStateDF.rooms).count().orderBy(\"count\")\n",
        "realStateroomsDF.show()"
      ],
      "metadata": {
        "id": "ir7dseh3bTbd",
        "colab": {
          "base_uri": "https://localhost:8080/"
        },
        "outputId": "3280af7e-e81a-4fc8-e066-7488b7173fc5"
      },
      "execution_count": null,
      "outputs": [
        {
          "output_type": "stream",
          "name": "stdout",
          "text": [
            "+-----+-----+\n",
            "|rooms|count|\n",
            "+-----+-----+\n",
            "|    5|  147|\n",
            "|    4| 1529|\n",
            "|    1| 2247|\n",
            "|    2| 5309|\n",
            "|    3| 6171|\n",
            "+-----+-----+\n",
            "\n"
          ]
        }
      ]
    },
    {
      "cell_type": "code",
      "source": [
        "realStateDF.printSchema()\n",
        "\n",
        "realStateDF = realStateDF.withColumn(\"fila_enum\", monotonically_increasing_id())\n",
        "realStateDF.show(3)"
      ],
      "metadata": {
        "id": "d9RKRaV4gtDZ",
        "colab": {
          "base_uri": "https://localhost:8080/"
        },
        "outputId": "9d5f87bc-c9df-4dc1-e307-4910bd967bfe"
      },
      "execution_count": null,
      "outputs": [
        {
          "output_type": "stream",
          "name": "stdout",
          "text": [
            "root\n",
            " |-- name_nsi: string (nullable = true)\n",
            " |-- price: string (nullable = true)\n",
            " |-- index: string (nullable = true)\n",
            " |-- environment: string (nullable = true)\n",
            " |-- quality_of_living: string (nullable = true)\n",
            " |-- safety: string (nullable = true)\n",
            " |-- transport: string (nullable = true)\n",
            " |-- services: string (nullable = true)\n",
            " |-- relax: string (nullable = true)\n",
            " |-- condition: string (nullable = true)\n",
            " |-- area: string (nullable = true)\n",
            " |-- energy_costs: string (nullable = true)\n",
            " |-- provision: string (nullable = true)\n",
            " |-- certificate: string (nullable = true)\n",
            " |-- construction_type: string (nullable = true)\n",
            " |-- orientation: string (nullable = true)\n",
            " |-- year_built: string (nullable = true)\n",
            " |-- last_reconstruction: string (nullable = true)\n",
            " |-- total_floors: string (nullable = true)\n",
            " |-- floor: string (nullable = true)\n",
            " |-- lift: string (nullable = true)\n",
            " |-- balkonies: string (nullable = true)\n",
            " |-- loggia: string (nullable = true)\n",
            " |-- cellar: string (nullable = true)\n",
            " |-- type: string (nullable = true)\n",
            " |-- rooms: string (nullable = true)\n",
            " |-- district: string (nullable = true)\n",
            "\n",
            "+--------+------+-----+-----------+-----------------+------+---------+--------+-----+--------------------+----+------------+---------+-----------+-----------------+-----------+----------+-------------------+------------+-----+----+---------+------+------+----------------+-----+----------+---------+\n",
            "|name_nsi| price|index|environment|quality_of_living|safety|transport|services|relax|           condition|area|energy_costs|provision|certificate|construction_type|orientation|year_built|last_reconstruction|total_floors|floor|lift|balkonies|loggia|cellar|            type|rooms|  district|fila_enum|\n",
            "+--------+------+-----+-----------+-----------------+------+---------+--------+-----+--------------------+----+------------+---------+-----------+-----------------+-----------+----------+-------------------+------------+-----+----+---------+------+------+----------------+-----+----------+---------+\n",
            "|Semerovo| 42000|   NA|         NA|               NA|    NA|       NA|      NA|   NA|  Original condition|  58|          NA|        0|         NA|               NA|         NA|        NA|                 NA|          NA|   NA|   0|       NA|    NA|     0|3-room apartment|    3|Nové Zámky|        0|\n",
            "|Semerovo| 42000|   NA|         NA|               NA|    NA|       NA|      NA|   NA|  Original condition|  58|          NA|        0|       none|            Brick|         NA|        NA|                 NA|           2|   NA|   0|       NA|    NA|     0|3-room apartment|    3|Nové Zámky|        1|\n",
            "| Štúrovo|107000|  8,3|         NA|               NA|    NA|       NA|      NA|   NA|Partial reconstru...|  40|          NA|        0|         NA|               NA|         NA|        NA|                 NA|           5|    3|   0|       NA|    NA|     0|1-room apartment|    1|Nové Zámky|        2|\n",
            "+--------+------+-----+-----------+-----------------+------+---------+--------+-----+--------------------+----+------------+---------+-----------+-----------------+-----------+----------+-------------------+------------+-----+----+---------+------+------+----------------+-----+----------+---------+\n",
            "only showing top 3 rows\n",
            "\n"
          ]
        }
      ]
    },
    {
      "cell_type": "markdown",
      "source": [
        "Creo otro dataset ficticio a partir del primero para poder hacer join. Agrego a ambos datasets el fila_enum para poder hacer el join por la coincidencia. Solo he multiplicado la columna 'rooms' y 'price' por dos."
      ],
      "metadata": {
        "id": "QhzwKWPRv-X7"
      }
    },
    {
      "cell_type": "code",
      "source": [
        "\n",
        "realStateCopiaDF=realStateDF.withColumn(\"segundoPrecio\", expr(\"price * 2\")).withColumn(\"segundosRooms\", expr(\"rooms * 2\"))\n",
        "realStateCopiaDF.show(3)\n",
        "columnasAeliminar= ['name_nsi','price','index','environment','quality_of_living','safety','transport','services','relax','condition','area','energy_costs','provision','certificate','construction_type','orientation','year_built','last_reconstruction','total_floors','floor','lift','balkonies','loggia','cellar','type','rooms','district']\n",
        "realStateCopiaDF=realStateCopiaDF.drop(*columnasAeliminar)\n",
        "realStateCopiaDF = realStateCopiaDF.withColumn(\"fila_enum\", monotonically_increasing_id())\n",
        "\n",
        "realStateCopiaDF.show()\n"
      ],
      "metadata": {
        "id": "PaP4vyRZcF8p",
        "colab": {
          "base_uri": "https://localhost:8080/"
        },
        "outputId": "997840f5-3c1a-46e7-e9f8-b0d65a8be582"
      },
      "execution_count": null,
      "outputs": [
        {
          "output_type": "stream",
          "name": "stdout",
          "text": [
            "+--------+------+-----+-----------+-----------------+------+---------+--------+-----+--------------------+----+------------+---------+-----------+-----------------+-----------+----------+-------------------+------------+-----+----+---------+------+------+----------------+-----+----------+---------+-------------+-------------+\n",
            "|name_nsi| price|index|environment|quality_of_living|safety|transport|services|relax|           condition|area|energy_costs|provision|certificate|construction_type|orientation|year_built|last_reconstruction|total_floors|floor|lift|balkonies|loggia|cellar|            type|rooms|  district|fila_enum|segundoPrecio|segundosRooms|\n",
            "+--------+------+-----+-----------+-----------------+------+---------+--------+-----+--------------------+----+------------+---------+-----------+-----------------+-----------+----------+-------------------+------------+-----+----+---------+------+------+----------------+-----+----------+---------+-------------+-------------+\n",
            "|Semerovo| 42000|   NA|         NA|               NA|    NA|       NA|      NA|   NA|  Original condition|  58|          NA|        0|         NA|               NA|         NA|        NA|                 NA|          NA|   NA|   0|       NA|    NA|     0|3-room apartment|    3|Nové Zámky|        0|      84000.0|          6.0|\n",
            "|Semerovo| 42000|   NA|         NA|               NA|    NA|       NA|      NA|   NA|  Original condition|  58|          NA|        0|       none|            Brick|         NA|        NA|                 NA|           2|   NA|   0|       NA|    NA|     0|3-room apartment|    3|Nové Zámky|        1|      84000.0|          6.0|\n",
            "| Štúrovo|107000|  8,3|         NA|               NA|    NA|       NA|      NA|   NA|Partial reconstru...|  40|          NA|        0|         NA|               NA|         NA|        NA|                 NA|           5|    3|   0|       NA|    NA|     0|1-room apartment|    1|Nové Zámky|        2|     214000.0|          2.0|\n",
            "+--------+------+-----+-----------+-----------------+------+---------+--------+-----+--------------------+----+------------+---------+-----------+-----------------+-----------+----------+-------------------+------------+-----+----+---------+------+------+----------------+-----+----------+---------+-------------+-------------+\n",
            "only showing top 3 rows\n",
            "\n",
            "+---------+-------------+-------------+\n",
            "|fila_enum|segundoPrecio|segundosRooms|\n",
            "+---------+-------------+-------------+\n",
            "|        0|      84000.0|          6.0|\n",
            "|        1|      84000.0|          6.0|\n",
            "|        2|     214000.0|          2.0|\n",
            "|        3|     210000.0|          6.0|\n",
            "|        4|     164000.0|          4.0|\n",
            "|        5|     204000.0|          6.0|\n",
            "|        6|     258000.0|          6.0|\n",
            "|        7|     190000.0|          4.0|\n",
            "|        8|     164000.0|          4.0|\n",
            "|        9|     149800.0|          4.0|\n",
            "|       10|     129800.0|          4.0|\n",
            "|       11|     166000.0|          4.0|\n",
            "|       12|     193000.0|          6.0|\n",
            "|       13|     165800.0|          6.0|\n",
            "|       14|     134000.0|          4.0|\n",
            "|       15|      96000.0|          2.0|\n",
            "|       16|     159800.0|          6.0|\n",
            "|       17|     131000.0|          4.0|\n",
            "|       18|     218000.0|          6.0|\n",
            "|       19|     136000.0|          6.0|\n",
            "+---------+-------------+-------------+\n",
            "only showing top 20 rows\n",
            "\n"
          ]
        }
      ]
    },
    {
      "cell_type": "markdown",
      "source": [
        "Uno ambos datasets, el original y el creado"
      ],
      "metadata": {
        "id": "_Rlf31vTkKHz"
      }
    },
    {
      "cell_type": "code",
      "source": [
        "# joinCondition = realStateDF.fila_enum == realStateCopiaDF.fila_enum\n",
        "nuevorealStateDF= realStateDF.join(realStateCopiaDF, 'fila_enum', \"left_outer\").orderBy(\"fila_enum\").show(3)"
      ],
      "metadata": {
        "id": "pOmvXykTcnDP",
        "colab": {
          "base_uri": "https://localhost:8080/"
        },
        "outputId": "692e9703-7fd0-4d56-abe7-e968467a366a"
      },
      "execution_count": null,
      "outputs": [
        {
          "output_type": "stream",
          "name": "stdout",
          "text": [
            "+---------+--------+------+-----+-----------+-----------------+------+---------+--------+-----+--------------------+----+------------+---------+-----------+-----------------+-----------+----------+-------------------+------------+-----+----+---------+------+------+----------------+-----+----------+-------------+-------------+\n",
            "|fila_enum|name_nsi| price|index|environment|quality_of_living|safety|transport|services|relax|           condition|area|energy_costs|provision|certificate|construction_type|orientation|year_built|last_reconstruction|total_floors|floor|lift|balkonies|loggia|cellar|            type|rooms|  district|segundoPrecio|segundosRooms|\n",
            "+---------+--------+------+-----+-----------+-----------------+------+---------+--------+-----+--------------------+----+------------+---------+-----------+-----------------+-----------+----------+-------------------+------------+-----+----+---------+------+------+----------------+-----+----------+-------------+-------------+\n",
            "|        0|Semerovo| 42000|   NA|         NA|               NA|    NA|       NA|      NA|   NA|  Original condition|  58|          NA|        0|         NA|               NA|         NA|        NA|                 NA|          NA|   NA|   0|       NA|    NA|     0|3-room apartment|    3|Nové Zámky|      84000.0|          6.0|\n",
            "|        1|Semerovo| 42000|   NA|         NA|               NA|    NA|       NA|      NA|   NA|  Original condition|  58|          NA|        0|       none|            Brick|         NA|        NA|                 NA|           2|   NA|   0|       NA|    NA|     0|3-room apartment|    3|Nové Zámky|      84000.0|          6.0|\n",
            "|        2| Štúrovo|107000|  8,3|         NA|               NA|    NA|       NA|      NA|   NA|Partial reconstru...|  40|          NA|        0|         NA|               NA|         NA|        NA|                 NA|           5|    3|   0|       NA|    NA|     0|1-room apartment|    1|Nové Zámky|     214000.0|          2.0|\n",
            "+---------+--------+------+-----+-----------+-----------------+------+---------+--------+-----+--------------------+----+------------+---------+-----------+-----------------+-----------+----------+-------------------+------------+-----+----+---------+------+------+----------------+-----+----------+-------------+-------------+\n",
            "only showing top 3 rows\n",
            "\n"
          ]
        }
      ]
    },
    {
      "cell_type": "markdown",
      "source": [
        "Window"
      ],
      "metadata": {
        "id": "OeVlFz8CSLE3"
      }
    },
    {
      "cell_type": "code",
      "source": [
        "realStateareasDF = realStateDF.groupBy(realStateDF.condition).count().orderBy(\"count\")\n",
        "realStateareasDF.show()\n",
        "\n",
        "win = window.partitionBy('condition')\n",
        "result = realStateDF.withColumn('precio_medio', avg(col('price')).over(win))\n",
        "results.show()\n"
      ],
      "metadata": {
        "colab": {
          "base_uri": "https://localhost:8080/",
          "height": 453
        },
        "id": "iXcvvCntSYIJ",
        "outputId": "c8b6fc9e-c47b-4ab5-fc6f-0818c506bdfc"
      },
      "execution_count": null,
      "outputs": [
        {
          "output_type": "stream",
          "name": "stdout",
          "text": [
            "+--------------------+-----+\n",
            "|           condition|count|\n",
            "+--------------------+-----+\n",
            "| Development project|   71|\n",
            "|                  NA|  327|\n",
            "|  Under construction|  441|\n",
            "|  Original condition| 2148|\n",
            "|Partial reconstru...| 3953|\n",
            "|        New building| 4074|\n",
            "|Complete reconstr...| 4389|\n",
            "+--------------------+-----+\n",
            "\n"
          ]
        },
        {
          "output_type": "error",
          "ename": "AttributeError",
          "evalue": "'function' object has no attribute 'partitionBy'",
          "traceback": [
            "\u001b[0;31m---------------------------------------------------------------------------\u001b[0m",
            "\u001b[0;31mAttributeError\u001b[0m                            Traceback (most recent call last)",
            "\u001b[0;32m<ipython-input-38-33c2486145ba>\u001b[0m in \u001b[0;36m<cell line: 4>\u001b[0;34m()\u001b[0m\n\u001b[1;32m      2\u001b[0m \u001b[0mrealStateareasDF\u001b[0m\u001b[0;34m.\u001b[0m\u001b[0mshow\u001b[0m\u001b[0;34m(\u001b[0m\u001b[0;34m)\u001b[0m\u001b[0;34m\u001b[0m\u001b[0;34m\u001b[0m\u001b[0m\n\u001b[1;32m      3\u001b[0m \u001b[0;34m\u001b[0m\u001b[0m\n\u001b[0;32m----> 4\u001b[0;31m \u001b[0mwin\u001b[0m \u001b[0;34m=\u001b[0m \u001b[0mwindow\u001b[0m\u001b[0;34m.\u001b[0m\u001b[0mpartitionBy\u001b[0m\u001b[0;34m(\u001b[0m\u001b[0;34m'condition'\u001b[0m\u001b[0;34m)\u001b[0m\u001b[0;34m\u001b[0m\u001b[0;34m\u001b[0m\u001b[0m\n\u001b[0m\u001b[1;32m      5\u001b[0m \u001b[0mresult\u001b[0m \u001b[0;34m=\u001b[0m \u001b[0mrealStateDF\u001b[0m\u001b[0;34m.\u001b[0m\u001b[0mwithColumn\u001b[0m\u001b[0;34m(\u001b[0m\u001b[0;34m'precio_medio'\u001b[0m\u001b[0;34m,\u001b[0m \u001b[0mavg\u001b[0m\u001b[0;34m(\u001b[0m\u001b[0mcol\u001b[0m\u001b[0;34m(\u001b[0m\u001b[0;34m'price'\u001b[0m\u001b[0;34m)\u001b[0m\u001b[0;34m)\u001b[0m\u001b[0;34m.\u001b[0m\u001b[0mover\u001b[0m\u001b[0;34m(\u001b[0m\u001b[0mwin\u001b[0m\u001b[0;34m)\u001b[0m\u001b[0;34m)\u001b[0m\u001b[0;34m\u001b[0m\u001b[0;34m\u001b[0m\u001b[0m\n\u001b[1;32m      6\u001b[0m \u001b[0mresults\u001b[0m\u001b[0;34m.\u001b[0m\u001b[0mshow\u001b[0m\u001b[0;34m(\u001b[0m\u001b[0;34m)\u001b[0m\u001b[0;34m\u001b[0m\u001b[0;34m\u001b[0m\u001b[0m\n",
            "\u001b[0;31mAttributeError\u001b[0m: 'function' object has no attribute 'partitionBy'"
          ]
        }
      ]
    }
  ],
  "metadata": {
    "colab": {
      "provenance": []
    },
    "kernelspec": {
      "display_name": "Python 3.10.0 64-bit",
      "language": "python",
      "name": "python3"
    },
    "language_info": {
      "codemirror_mode": {
        "name": "ipython",
        "version": 3
      },
      "file_extension": ".py",
      "mimetype": "text/x-python",
      "name": "python",
      "nbconvert_exporter": "python",
      "pygments_lexer": "ipython3",
      "version": "3.10.0"
    },
    "orig_nbformat": 4,
    "vscode": {
      "interpreter": {
        "hash": "ff1af5cda0bea4fe5c4ebc1f94ab9f13d8998f98d08e16d8aba48673b9d00116"
      }
    }
  },
  "nbformat": 4,
  "nbformat_minor": 0
}