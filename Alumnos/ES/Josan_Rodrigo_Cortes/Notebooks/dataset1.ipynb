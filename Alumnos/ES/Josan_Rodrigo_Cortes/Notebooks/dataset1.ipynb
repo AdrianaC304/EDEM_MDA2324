{
  "cells": [
    {
      "cell_type": "markdown",
      "metadata": {
        "id": "VuDrVFwRThTN"
      },
      "source": [
        "# Nueva sección"
      ]
    },
    {
      "cell_type": "markdown",
      "metadata": {
        "id": "TrqYB5x04wAA"
      },
      "source": []
    },
    {
      "cell_type": "code",
      "execution_count": null,
      "metadata": {
        "id": "TEBBXeUE4wgf"
      },
      "outputs": [],
      "source": []
    },
    {
      "cell_type": "markdown",
      "metadata": {
        "id": "nwE3LydU4w86"
      },
      "source": [
        "TRABAJO DATA SET\n",
        "COMO LEER UN CSV:"
      ]
    },
    {
      "cell_type": "markdown",
      "metadata": {
        "id": "gdFIGIP-4pKx"
      },
      "source": []
    },
    {
      "cell_type": "code",
      "execution_count": null,
      "metadata": {
        "id": "l8U9ZQm56cr8"
      },
      "outputs": [],
      "source": [
        "import pandas as pd\n",
        "df = pd.read_csv(\"/content/smmh.csv\")\n",
        "df"
      ]
    }
  ],
  "metadata": {
    "colab": {
      "provenance": [],
      "toc_visible": true
    },
    "kernelspec": {
      "display_name": "Python 3",
      "name": "python3"
    },
    "language_info": {
      "name": "python"
    }
  },
  "nbformat": 4,
  "nbformat_minor": 0
}
