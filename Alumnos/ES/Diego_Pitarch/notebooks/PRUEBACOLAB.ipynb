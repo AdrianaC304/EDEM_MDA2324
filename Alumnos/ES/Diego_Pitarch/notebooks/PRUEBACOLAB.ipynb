{
  "cells": [
    {
      "cell_type": "code",
      "execution_count": null,
      "metadata": {
        "id": "WK8ESQZ06r-w"
      },
      "outputs": [],
      "source": [
        "hola mundo diego pitarch\n"
      ]
    }
  ],
  "metadata": {
    "colab": {
      "provenance": []
    },
    "kernelspec": {
      "display_name": "Python 3",
      "name": "python3"
    },
    "language_info": {
      "name": "python"
    }
  },
  "nbformat": 4,
  "nbformat_minor": 0
}
