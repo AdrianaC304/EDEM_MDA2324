{
 "cells": [
  {
   "cell_type": "code",
   "execution_count": 63,
   "id": "40142b34-566d-426b-a261-75acae1a9dbd",
   "metadata": {},
   "outputs": [
    {
     "name": "stdout",
     "output_type": "stream",
     "text": [
      "Collecting collections2\n",
      "  Downloading collections2-0.3.0.tar.gz (3.3 kB)\n",
      "  Preparing metadata (setup.py) ... \u001b[?25ldone\n",
      "\u001b[?25hBuilding wheels for collected packages: collections2\n",
      "  Building wheel for collections2 (setup.py) ... \u001b[?25ldone\n",
      "\u001b[?25h  Created wheel for collections2: filename=collections2-0.3.0-py3-none-any.whl size=5334 sha256=bb99c1efc642c5ac3fa56d9222271c413e8fa6ff103cf686730e131513c16a48\n",
      "  Stored in directory: /home/jovyan/.cache/pip/wheels/d0/45/a9/c681e061c5e021c436b342cadba9bd54e7d1b766eb4ac2aeab\n",
      "Successfully built collections2\n",
      "Installing collected packages: collections2\n",
      "Successfully installed collections2-0.3.0\n",
      "Note: you may need to restart the kernel to use updated packages.\n"
     ]
    }
   ],
   "source": [
    "pip install collections2"
   ]
  },
  {
   "cell_type": "code",
   "execution_count": 40,
   "id": "eda9f677-7a2e-4f41-b220-7ee665a40ef0",
   "metadata": {},
   "outputs": [
    {
     "name": "stderr",
     "output_type": "stream",
     "text": [
      "/tmp/ipykernel_7172/652380405.py:7: ParserWarning: Falling back to the 'python' engine because the 'c' engine does not support regex separators (separators > 1 char and different from '\\s+' are interpreted as regex); you can avoid this warning by specifying engine='python'.\n",
      "  df = pd.read_csv('jokes.txt', sep=\" ;54 \", header=None)\n"
     ]
    }
   ],
   "source": [
    "import pandas as pd\n",
    "import matplotlib.pyplot as plt\n",
    "import seaborn as sns\n",
    "import wordcloud as WordCloud\n",
    "import nltk\n",
    "import spacy\n",
    "df = pd.read_csv('jokes.txt', sep=\" ;54 \", header=None)"
   ]
  },
  {
   "cell_type": "code",
   "execution_count": 41,
   "id": "5cf289d3-7c81-4dd3-9f0d-e0e4ad362e58",
   "metadata": {},
   "outputs": [],
   "source": [
    "df = df.rename(columns={0 : 'text'})"
   ]
  },
  {
   "cell_type": "code",
   "execution_count": 42,
   "id": "f441059c-1956-4b10-9179-ce4c98a19a7b",
   "metadata": {},
   "outputs": [
    {
     "data": {
      "text/html": [
       "<div>\n",
       "<style scoped>\n",
       "    .dataframe tbody tr th:only-of-type {\n",
       "        vertical-align: middle;\n",
       "    }\n",
       "\n",
       "    .dataframe tbody tr th {\n",
       "        vertical-align: top;\n",
       "    }\n",
       "\n",
       "    .dataframe thead th {\n",
       "        text-align: right;\n",
       "    }\n",
       "</style>\n",
       "<table border=\"1\" class=\"dataframe\">\n",
       "  <thead>\n",
       "    <tr style=\"text-align: right;\">\n",
       "      <th></th>\n",
       "      <th>text</th>\n",
       "    </tr>\n",
       "  </thead>\n",
       "  <tbody>\n",
       "    <tr>\n",
       "      <th>0</th>\n",
       "      <td>When economic crisis comes, you should know th...</td>\n",
       "    </tr>\n",
       "    <tr>\n",
       "      <th>1</th>\n",
       "      <td>Chuck Norris can sky dive from the ground into...</td>\n",
       "    </tr>\n",
       "    <tr>\n",
       "      <th>2</th>\n",
       "      <td>Chuck Norris doesn't have to say NO to drugs.....</td>\n",
       "    </tr>\n",
       "    <tr>\n",
       "      <th>3</th>\n",
       "      <td>Chuck Norris was a stowaway on board Apollo 13...</td>\n",
       "    </tr>\n",
       "    <tr>\n",
       "      <th>4</th>\n",
       "      <td>Chuck Norris will never suffer from a demonic ...</td>\n",
       "    </tr>\n",
       "    <tr>\n",
       "      <th>...</th>\n",
       "      <td>...</td>\n",
       "    </tr>\n",
       "    <tr>\n",
       "      <th>410</th>\n",
       "      <td>The reason they changed it from 10 degrees of ...</td>\n",
       "    </tr>\n",
       "    <tr>\n",
       "      <th>411</th>\n",
       "      <td>The raisins in Kellogg's Raisin Bran are actua...</td>\n",
       "    </tr>\n",
       "    <tr>\n",
       "      <th>412</th>\n",
       "      <td>Super Mario was based on Chuck Norris, in that...</td>\n",
       "    </tr>\n",
       "    <tr>\n",
       "      <th>413</th>\n",
       "      <td>It isn't what Chuck Norris would do for a Klon...</td>\n",
       "    </tr>\n",
       "    <tr>\n",
       "      <th>414</th>\n",
       "      <td>Chuck Norris' eyes can un-pixellate any crimin...</td>\n",
       "    </tr>\n",
       "  </tbody>\n",
       "</table>\n",
       "<p>415 rows × 1 columns</p>\n",
       "</div>"
      ],
      "text/plain": [
       "                                                  text\n",
       "0    When economic crisis comes, you should know th...\n",
       "1    Chuck Norris can sky dive from the ground into...\n",
       "2    Chuck Norris doesn't have to say NO to drugs.....\n",
       "3    Chuck Norris was a stowaway on board Apollo 13...\n",
       "4    Chuck Norris will never suffer from a demonic ...\n",
       "..                                                 ...\n",
       "410  The reason they changed it from 10 degrees of ...\n",
       "411  The raisins in Kellogg's Raisin Bran are actua...\n",
       "412  Super Mario was based on Chuck Norris, in that...\n",
       "413  It isn't what Chuck Norris would do for a Klon...\n",
       "414  Chuck Norris' eyes can un-pixellate any crimin...\n",
       "\n",
       "[415 rows x 1 columns]"
      ]
     },
     "execution_count": 42,
     "metadata": {},
     "output_type": "execute_result"
    }
   ],
   "source": [
    "df"
   ]
  },
  {
   "cell_type": "code",
   "execution_count": 46,
   "id": "529b4f53-061d-4a5f-9e39-29dcb12c5249",
   "metadata": {},
   "outputs": [],
   "source": [
    "df['text'] = df['text'].astype(pd.StringDtype())"
   ]
  },
  {
   "cell_type": "code",
   "execution_count": 47,
   "id": "9b53cf5c-e433-4a1d-9217-01dbda4c6283",
   "metadata": {},
   "outputs": [
    {
     "data": {
      "text/plain": [
       "text    string[python]\n",
       "dtype: object"
      ]
     },
     "execution_count": 47,
     "metadata": {},
     "output_type": "execute_result"
    }
   ],
   "source": [
    "df.dtypes"
   ]
  },
  {
   "cell_type": "code",
   "execution_count": 59,
   "id": "80dd29f8-906f-4c1d-90a8-d62a409683a1",
   "metadata": {},
   "outputs": [],
   "source": [
    "nlp = spacy.load(\"en_core_web_sm\")"
   ]
  },
  {
   "cell_type": "code",
   "execution_count": 53,
   "id": "0b60fc78-96fa-490f-8f33-24a28aebf1d0",
   "metadata": {},
   "outputs": [],
   "source": [
    "textf = df['text'].str.cat(sep = ' ')"
   ]
  },
  {
   "cell_type": "code",
   "execution_count": 60,
   "id": "d2c7dca6-499a-45fd-87d5-68a5635b7cf7",
   "metadata": {},
   "outputs": [],
   "source": [
    "doc = nlp(textf)"
   ]
  },
  {
   "cell_type": "code",
   "execution_count": 64,
   "id": "5cf4fa69-3964-4037-9326-6777d2afd1ff",
   "metadata": {},
   "outputs": [],
   "source": [
    "from collections import Counter\n",
    "\n",
    "sustantivos = [token.text for token in doc if token.pos_ == \"NOUN\"]\n",
    "frecuencia_sustantivos = Counter(sustantivos)"
   ]
  },
  {
   "cell_type": "code",
   "execution_count": 65,
   "id": "a5b97060-ee55-4307-9773-89c082baa219",
   "metadata": {},
   "outputs": [],
   "source": [
    "top_25_sustantivos = frecuencia_sustantivos.most_common(25)"
   ]
  },
  {
   "cell_type": "code",
   "execution_count": 66,
   "id": "28ae8cc1-d5e1-4b8a-b585-c7172d2fc0b2",
   "metadata": {},
   "outputs": [],
   "source": [
    "sustantivos, frecuencias = zip(*top_25_sustantivos)"
   ]
  },
  {
   "cell_type": "code",
   "execution_count": 67,
   "id": "05235426-9f97-4e67-9356-67ffbbe71066",
   "metadata": {},
   "outputs": [
    {
     "data": {
      "image/png": "[encoded data removed]",
      "text/plain": [
       "<Figure size 1000x600 with 1 Axes>"
      ]
     },
     "metadata": {},
     "output_type": "display_data"
    }
   ],
   "source": [
    "plt.figure(figsize=(10, 6))\n",
    "plt.barh(sustantivos, frecuencias, color='skyblue')\n",
    "plt.xlabel('Frecuencia')\n",
    "plt.ylabel('Sustantivos')\n",
    "plt.title('Top 25 Sustantivos')\n",
    "plt.gca().invert_yaxis()\n",
    "plt.show()"
   ]
  },
  {
   "cell_type": "code",
   "execution_count": null,
   "id": "82da4e05-ecc7-4ee7-b3bc-f4159e408c78",
   "metadata": {},
   "outputs": [],
   "source": []
  }
 ],
 "metadata": {
  "kernelspec": {
   "display_name": "Python 3 (ipykernel)",
   "language": "python",
   "name": "python3"
  },
  "language_info": {
   "codemirror_mode": {
    "name": "ipython",
    "version": 3
   },
   "file_extension": ".py",
   "mimetype": "text/x-python",
   "name": "python",
   "nbconvert_exporter": "python",
   "pygments_lexer": "ipython3",
   "version": "3.11.6"
  }
 },
 "nbformat": 4,
 "nbformat_minor": 5
}
