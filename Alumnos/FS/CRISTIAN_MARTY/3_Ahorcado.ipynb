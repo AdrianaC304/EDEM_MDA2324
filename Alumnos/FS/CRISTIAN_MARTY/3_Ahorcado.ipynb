{
 "cells": [
  {
   "cell_type": "code",
   "execution_count": 14,
   "metadata": {},
   "outputs": [
    {
     "data": {
      "text/plain": [
       "[]"
      ]
     },
     "execution_count": 14,
     "metadata": {},
     "output_type": "execute_result"
    }
   ],
   "source": [
    "import pandas as pd\n",
    "import time\n",
    "\n",
    "path = './test_ahoracado.csv'\n",
    "data = pd.read_csv(path)\n",
    "\n",
    "lista = data.values.flatten().tolist()\n",
    "diccionario = 'ABCDEFGHIJKLMNOPQRSTUVWXYZ'\n",
    "lista"
   ]
  },
  {
   "cell_type": "code",
   "execution_count": 15,
   "metadata": {},
   "outputs": [
    {
     "name": "stdout",
     "output_type": "stream",
     "text": [
      "Intentos totales: 3\n",
      "Tiempo total de ejecución: 0 milisegundos\n"
     ]
    }
   ],
   "source": [
    "lista = ['LEY']\n",
    "\n",
    "aciertos = []\n",
    "\n",
    "\n",
    "def ahorcado():\n",
    "    inicio_tiempo = int(time.time() * 1000)  # Registro del tiempo de inicio en milisegundos\n",
    "    intentos = 0\n",
    "    for palabra in lista:\n",
    "        for letra in diccionario:\n",
    "            if letra in palabra:\n",
    "                aciertos.append(letra)\n",
    "                intentos += 1  # Incrementar el contador de intentos\n",
    "    \n",
    "    \n",
    "    \n",
    "    \n",
    "    \n",
    "    \n",
    "    \n",
    "    fin_tiempo = int(time.time() * 1000)  # Registro del tiempo de finalización en milisegundos\n",
    "    tiempo_total = fin_tiempo - inicio_tiempo  # Cálculo del tiempo total en milisegundos\n",
    "\n",
    "    print(f\"Intentos totales: {intentos}\")\n",
    "    print(f\"Tiempo total de ejecución: {tiempo_total} milisegundos\")\n",
    "\n",
    "ahorcado()\n"
   ]
  },
  {
   "cell_type": "code",
   "execution_count": 12,
   "metadata": {},
   "outputs": [
    {
     "data": {
      "text/plain": [
       "['D',\n",
       " 'E',\n",
       " 'I',\n",
       " 'M',\n",
       " 'O',\n",
       " 'R',\n",
       " 'A',\n",
       " 'C',\n",
       " 'I',\n",
       " 'N',\n",
       " 'O',\n",
       " 'P',\n",
       " 'R',\n",
       " 'U',\n",
       " 'A',\n",
       " 'E',\n",
       " 'J',\n",
       " 'M',\n",
       " 'N',\n",
       " 'R',\n",
       " 'E',\n",
       " 'L',\n",
       " 'Y',\n",
       " 'A',\n",
       " 'E',\n",
       " 'F',\n",
       " 'L',\n",
       " 'N',\n",
       " 'T']"
      ]
     },
     "execution_count": 12,
     "metadata": {},
     "output_type": "execute_result"
    }
   ],
   "source": [
    "aciertos"
   ]
  },
  {
   "cell_type": "code",
   "execution_count": null,
   "metadata": {},
   "outputs": [],
   "source": []
  }
 ],
 "metadata": {
  "kernelspec": {
   "display_name": "base",
   "language": "python",
   "name": "python3"
  },
  "language_info": {
   "codemirror_mode": {
    "name": "ipython",
    "version": 3
   },
   "file_extension": ".py",
   "mimetype": "text/x-python",
   "name": "python",
   "nbconvert_exporter": "python",
   "pygments_lexer": "ipython3",
   "version": "3.11.4"
  }
 },
 "nbformat": 4,
 "nbformat_minor": 2
}
