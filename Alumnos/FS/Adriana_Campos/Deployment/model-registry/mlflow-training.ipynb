{
 "cells": [
  {
   "attachments": {},
   "cell_type": "markdown",
   "metadata": {},
   "source": [
    "<font color=\"#CA3532\"><h1 align=\"left\">Master Data Analytics. EDEM.</h1></font>\n",
    "<font color=\"#6E6E6E\"><h2 align=\"left\">Herramientas MLOps.</h2></font> \n",
    "<font color=\"#6E6E6E\"><h2 align=\"left\">Tarea 2. Usando MLFlow como model registry.</h2></font> \n",
    "#### Daniel Ruiz Riquelme"
   ]
  },
  {
   "cell_type": "code",
   "execution_count": 1,
   "metadata": {},
   "outputs": [],
   "source": [
    "import mlflow\n",
    "from mlflow import log_metric, log_param, log_artifact"
   ]
  },
  {
   "cell_type": "code",
   "execution_count": 2,
   "metadata": {},
   "outputs": [
    {
     "name": "stdout",
     "output_type": "stream",
     "text": [
      "/Users/adrianacamposnarvaez/Documents/GitHub/EDEM_MDA2324/Profesores/Deployment/model-registry\n"
     ]
    }
   ],
   "source": [
    "!pwd"
   ]
  },
  {
   "cell_type": "code",
   "execution_count": null,
   "metadata": {},
   "outputs": [],
   "source": [
    "# 1. Install MLFlow\n",
    "# !pip install mlflow[extras]\n",
    "# !pip freeze | grep mlflow"
   ]
  },
  {
   "cell_type": "code",
   "execution_count": null,
   "metadata": {},
   "outputs": [],
   "source": [
    "# 2. Setup MLFlow Tracking Server\n",
    "# Run the following command in a terminal to start the MLFlow Tracking Server\n",
    "# Configure mlflow to store all in a local directory\n",
    "# mlflow server --backend-store-uri ./mlruns --default-artifact-root ./mlruns"
   ]
  },
  {
   "cell_type": "code",
   "execution_count": 4,
   "metadata": {},
   "outputs": [
    {
     "name": "stderr",
     "output_type": "stream",
     "text": [
      "2024/06/22 11:08:33 INFO mlflow.tracking.fluent: Experiment with name 'mlflow-model-training-iris' does not exist. Creating a new experiment.\n"
     ]
    },
    {
     "data": {
      "text/plain": [
       "<Experiment: artifact_location='./mlruns/230436946830549990', creation_time=1719047313241, experiment_id='230436946830549990', last_update_time=1719047313241, lifecycle_stage='active', name='mlflow-model-training-iris', tags={}>"
      ]
     },
     "execution_count": 4,
     "metadata": {},
     "output_type": "execute_result"
    }
   ],
   "source": [
    "# 3. Create a new experiment\n",
    "# This is a local tracking server. You can also use a remote tracking server. See https://mlflow.org/docs/latest/tracking.html for more details.\n",
    "# Remote tracking server will be simulated later\n",
    "\n",
    "import mlflow\n",
    "#mlflow.set_tracking_uri(\"http://localhost:5000\")\n",
    "mlflow.set_tracking_uri(\"http://127.0.0.1:5000\")\n",
    "mlflow.set_experiment(\"mlflow-model-training-iris\")"
   ]
  },
  {
   "cell_type": "code",
   "execution_count": 6,
   "metadata": {},
   "outputs": [],
   "source": [
    "# 4. Log a model experiment result\n",
    "\n",
    "# Lets first create a simple function to train a model\n",
    "# The function will receive a set of hyperparameters and return the model and the accuracy\n",
    "import datetime\n",
    "\n",
    "def get_data():\n",
    "    from sklearn import datasets\n",
    "\n",
    "    # X, y = datasets.make_classification(n_samples=1000, n_features=4, n_informative=4, n_redundant=0, n_classes=3, n_clusters_per_class=1, class_sep=0.5, random_state=40)\n",
    "    # use iris dataset\n",
    "    X, y = datasets.load_breast_cancer(return_X_y=True)\n",
    "    return X, y\n",
    "\n",
    "def train_model(hyperparameters):\n",
    "    from sklearn.ensemble import RandomForestClassifier\n",
    "    from sklearn.metrics import accuracy_score\n",
    "    from sklearn.model_selection import train_test_split\n",
    "    import mlflow.sklearn\n",
    "    X, y = get_data()\n",
    "    X_train, X_test, y_train, y_test = train_test_split(X, y, test_size=0.2, random_state=40)\n",
    "    model = RandomForestClassifier(**hyperparameters)\n",
    "    model.fit(X_train, y_train)\n",
    "    y_pred = model.predict(X_test)\n",
    "    accuracy = accuracy_score(y_pred, y_test)\n",
    "    return model, accuracy\n",
    "\n",
    "# Now lets train a model with some hyperparameters\n",
    "hyperparameters = {\"n_estimators\": 11, \"max_depth\": 6}\n",
    "model, accuracy = train_model(hyperparameters)\n",
    "\n",
    "# Now lets log the model and the accuracy\n",
    "date = datetime.datetime.now().strftime(\"%Y-%m-%d-%H-%M-%S\")\n",
    "#indetificador \n",
    "with mlflow.start_run(run_name=f\"mlflow-training-{date}\"):\n",
    "    \n",
    "    # Hyperparameters are logged as parameters\n",
    "    for hyperparameter, value in hyperparameters.items():\n",
    "        mlflow.log_param(hyperparameter, value)\n",
    "    \n",
    "    # Accuracy is logged as a metric \n",
    "    mlflow.log_metric(\"accuracy\", accuracy)\n",
    "    \n",
    "    # Model is logged as an artifact\n",
    "    mlflow.sklearn.log_model(model, \"model\")"
   ]
  },
  {
   "cell_type": "code",
   "execution_count": 7,
   "metadata": {},
   "outputs": [
    {
     "name": "stderr",
     "output_type": "stream",
     "text": [
      "/Users/adrianacamposnarvaez/anaconda3/envs/edempy210/lib/python3.10/site-packages/tqdm/auto.py:21: TqdmWarning: IProgress not found. Please update jupyter and ipywidgets. See https://ipywidgets.readthedocs.io/en/stable/user_install.html\n",
      "  from .autonotebook import tqdm as notebook_tqdm\n",
      "\u001b[32m[I 2024-06-22 11:25:52,029]\u001b[0m A new study created in memory with name: no-name-b3170c8e-2f1a-4cc8-8143-c06fe6ca41ee\u001b[0m\n",
      "\u001b[32m[I 2024-06-22 11:25:53,045]\u001b[0m Trial 0 finished with value: 0.9490762303990063 and parameters: {'n_estimators': 88, 'max_depth': 6, 'min_samples_split': 18, 'min_samples_leaf': 12, 'max_features': 0.9945090147129352}. Best is trial 0 with value: 0.9490762303990063.\u001b[0m\n",
      "\u001b[32m[I 2024-06-22 11:25:53,864]\u001b[0m Trial 1 finished with value: 0.9508150908244062 and parameters: {'n_estimators': 96, 'max_depth': 2, 'min_samples_split': 4, 'min_samples_leaf': 7, 'max_features': 0.9564195283607432}. Best is trial 0 with value: 0.9490762303990063.\u001b[0m\n",
      "\u001b[32m[I 2024-06-22 11:25:54,109]\u001b[0m Trial 2 finished with value: 0.9578636857630801 and parameters: {'n_estimators': 22, 'max_depth': 3, 'min_samples_split': 5, 'min_samples_leaf': 2, 'max_features': 0.8180602832083677}. Best is trial 0 with value: 0.9490762303990063.\u001b[0m\n",
      "\u001b[32m[I 2024-06-22 11:25:54,619]\u001b[0m Trial 3 finished with value: 0.9543238627542306 and parameters: {'n_estimators': 71, 'max_depth': 6, 'min_samples_split': 15, 'min_samples_leaf': 7, 'max_features': 0.3956989653584253}. Best is trial 0 with value: 0.9490762303990063.\u001b[0m\n",
      "\u001b[32m[I 2024-06-22 11:25:54,717]\u001b[0m Trial 4 finished with value: 0.9402887750349326 and parameters: {'n_estimators': 12, 'max_depth': 5, 'min_samples_split': 5, 'min_samples_leaf': 19, 'max_features': 0.25088002715244495}. Best is trial 4 with value: 0.9402887750349326.\u001b[0m\n",
      "\u001b[32m[I 2024-06-22 11:25:55,044]\u001b[0m Trial 5 finished with value: 0.9596180717279925 and parameters: {'n_estimators': 28, 'max_depth': 7, 'min_samples_split': 6, 'min_samples_leaf': 1, 'max_features': 0.6261430637597356}. Best is trial 4 with value: 0.9402887750349326.\u001b[0m\n",
      "\u001b[32m[I 2024-06-22 11:25:55,172]\u001b[0m Trial 6 finished with value: 0.9297469337059463 and parameters: {'n_estimators': 22, 'max_depth': 5, 'min_samples_split': 13, 'min_samples_leaf': 20, 'max_features': 0.10916248059044102}. Best is trial 6 with value: 0.9297469337059463.\u001b[0m\n",
      "\u001b[32m[I 2024-06-22 11:25:55,479]\u001b[0m Trial 7 finished with value: 0.9437820214252446 and parameters: {'n_estimators': 41, 'max_depth': 4, 'min_samples_split': 19, 'min_samples_leaf': 16, 'max_features': 0.49803278213066837}. Best is trial 6 with value: 0.9297469337059463.\u001b[0m\n",
      "\u001b[32m[I 2024-06-22 11:25:55,957]\u001b[0m Trial 8 finished with value: 0.9473218444340942 and parameters: {'n_estimators': 82, 'max_depth': 10, 'min_samples_split': 13, 'min_samples_leaf': 13, 'max_features': 0.28354053227692433}. Best is trial 6 with value: 0.9297469337059463.\u001b[0m\n",
      "\u001b[32m[I 2024-06-22 11:25:56,249]\u001b[0m Trial 9 finished with value: 0.9437820214252446 and parameters: {'n_estimators': 55, 'max_depth': 3, 'min_samples_split': 12, 'min_samples_leaf': 15, 'max_features': 0.20654652184087308}. Best is trial 6 with value: 0.9297469337059463.\u001b[0m\n",
      "\u001b[32m[I 2024-06-22 11:25:56,321]\u001b[0m Trial 10 finished with value: 0.9297314081664337 and parameters: {'n_estimators': 6, 'max_depth': 8, 'min_samples_split': 9, 'min_samples_leaf': 18, 'max_features': 0.12236231390359525}. Best is trial 10 with value: 0.9297314081664337.\u001b[0m\n",
      "\u001b[32m[I 2024-06-22 11:25:56,377]\u001b[0m Trial 11 finished with value: 0.9349945660611707 and parameters: {'n_estimators': 4, 'max_depth': 8, 'min_samples_split': 9, 'min_samples_leaf': 20, 'max_features': 0.1003362152946699}. Best is trial 10 with value: 0.9297314081664337.\u001b[0m\n",
      "\u001b[32m[I 2024-06-22 11:25:56,421]\u001b[0m Trial 12 finished with value: 0.8910262381617763 and parameters: {'n_estimators': 1, 'max_depth': 9, 'min_samples_split': 9, 'min_samples_leaf': 17, 'max_features': 0.11127330758337639}. Best is trial 12 with value: 0.8910262381617763.\u001b[0m\n",
      "\u001b[32m[I 2024-06-22 11:25:56,471]\u001b[0m Trial 13 finished with value: 0.9385188635305075 and parameters: {'n_estimators': 2, 'max_depth': 9, 'min_samples_split': 9, 'min_samples_leaf': 16, 'max_features': 0.34042311425658867}. Best is trial 12 with value: 0.8910262381617763.\u001b[0m\n",
      "\u001b[32m[I 2024-06-22 11:25:56,872]\u001b[0m Trial 14 finished with value: 0.9490762303990063 and parameters: {'n_estimators': 43, 'max_depth': 10, 'min_samples_split': 9, 'min_samples_leaf': 9, 'max_features': 0.6089958021761679}. Best is trial 12 with value: 0.8910262381617763.\u001b[0m\n",
      "\u001b[32m[I 2024-06-22 11:25:56,998]\u001b[0m Trial 15 finished with value: 0.9420431609998448 and parameters: {'n_estimators': 13, 'max_depth': 8, 'min_samples_split': 8, 'min_samples_leaf': 17, 'max_features': 0.40719780736742806}. Best is trial 12 with value: 0.8910262381617763.\u001b[0m\n",
      "\u001b[32m[I 2024-06-22 11:25:57,190]\u001b[0m Trial 16 finished with value: 0.9508150908244062 and parameters: {'n_estimators': 31, 'max_depth': 8, 'min_samples_split': 2, 'min_samples_leaf': 18, 'max_features': 0.2047051377572801}. Best is trial 12 with value: 0.8910262381617763.\u001b[0m\n",
      "\u001b[32m[I 2024-06-22 11:25:57,625]\u001b[0m Trial 17 finished with value: 0.9473063188945815 and parameters: {'n_estimators': 57, 'max_depth': 9, 'min_samples_split': 16, 'min_samples_leaf': 14, 'max_features': 0.4993010910192399}. Best is trial 12 with value: 0.8910262381617763.\u001b[0m\n",
      "\u001b[32m[I 2024-06-22 11:25:57,806]\u001b[0m Trial 18 finished with value: 0.9490607048594939 and parameters: {'n_estimators': 15, 'max_depth': 7, 'min_samples_split': 11, 'min_samples_leaf': 11, 'max_features': 0.7560866714150394}. Best is trial 12 with value: 0.8910262381617763.\u001b[0m\n",
      "\u001b[32m[I 2024-06-22 11:25:58,002]\u001b[0m Trial 19 finished with value: 0.9385343890700202 and parameters: {'n_estimators': 36, 'max_depth': 9, 'min_samples_split': 8, 'min_samples_leaf': 18, 'max_features': 0.15195300295648329}. Best is trial 12 with value: 0.8910262381617763.\u001b[0m\n",
      "\u001b[32m[I 2024-06-22 11:25:58,057]\u001b[0m Trial 20 finished with value: 0.9385343890700202 and parameters: {'n_estimators': 2, 'max_depth': 7, 'min_samples_split': 7, 'min_samples_leaf': 9, 'max_features': 0.32005545252539946}. Best is trial 12 with value: 0.8910262381617763.\u001b[0m\n",
      "\u001b[32m[I 2024-06-22 11:25:58,178]\u001b[0m Trial 21 finished with value: 0.9385343890700202 and parameters: {'n_estimators': 20, 'max_depth': 5, 'min_samples_split': 11, 'min_samples_leaf': 20, 'max_features': 0.12285240592729132}. Best is trial 12 with value: 0.8910262381617763.\u001b[0m\n",
      "\u001b[32m[I 2024-06-22 11:25:58,265]\u001b[0m Trial 22 finished with value: 0.9385343890700202 and parameters: {'n_estimators': 10, 'max_depth': 6, 'min_samples_split': 14, 'min_samples_leaf': 20, 'max_features': 0.18680123940851312}. Best is trial 12 with value: 0.8910262381617763.\u001b[0m\n",
      "\u001b[32m[I 2024-06-22 11:25:58,394]\u001b[0m Trial 23 finished with value: 0.9367800031051079 and parameters: {'n_estimators': 22, 'max_depth': 5, 'min_samples_split': 11, 'min_samples_leaf': 17, 'max_features': 0.11997502234512186}. Best is trial 12 with value: 0.8910262381617763.\u001b[0m\n",
      "\u001b[32m[I 2024-06-22 11:25:58,440]\u001b[0m Trial 24 finished with value: 0.8981369352585002 and parameters: {'n_estimators': 1, 'max_depth': 10, 'min_samples_split': 16, 'min_samples_leaf': 15, 'max_features': 0.2554421464101071}. Best is trial 12 with value: 0.8910262381617763.\u001b[0m\n",
      "\u001b[32m[I 2024-06-22 11:25:58,485]\u001b[0m Trial 25 finished with value: 0.9104021114733737 and parameters: {'n_estimators': 1, 'max_depth': 10, 'min_samples_split': 17, 'min_samples_leaf': 14, 'max_features': 0.25564079190525263}. Best is trial 12 with value: 0.8910262381617763.\u001b[0m\n",
      "\u001b[32m[I 2024-06-22 11:25:58,926]\u001b[0m Trial 26 finished with value: 0.9525694767893184 and parameters: {'n_estimators': 66, 'max_depth': 10, 'min_samples_split': 17, 'min_samples_leaf': 14, 'max_features': 0.38536006468183}. Best is trial 12 with value: 0.8910262381617763.\u001b[0m\n",
      "\u001b[32m[I 2024-06-22 11:25:58,973]\u001b[0m Trial 27 finished with value: 0.9227449153858096 and parameters: {'n_estimators': 1, 'max_depth': 10, 'min_samples_split': 20, 'min_samples_leaf': 13, 'max_features': 0.25171213544002274}. Best is trial 12 with value: 0.8910262381617763.\u001b[0m\n",
      "\u001b[32m[I 2024-06-22 11:25:59,109]\u001b[0m Trial 28 finished with value: 0.9420431609998448 and parameters: {'n_estimators': 15, 'max_depth': 9, 'min_samples_split': 16, 'min_samples_leaf': 15, 'max_features': 0.46479218815023876}. Best is trial 12 with value: 0.8910262381617763.\u001b[0m\n",
      "\u001b[32m[I 2024-06-22 11:25:59,309]\u001b[0m Trial 29 finished with value: 0.9437975469647568 and parameters: {'n_estimators': 28, 'max_depth': 10, 'min_samples_split': 18, 'min_samples_leaf': 11, 'max_features': 0.30850852003799173}. Best is trial 12 with value: 0.8910262381617763.\u001b[0m\n",
      "\u001b[32m[I 2024-06-22 11:25:59,388]\u001b[0m Trial 30 finished with value: 0.9490607048594939 and parameters: {'n_estimators': 8, 'max_depth': 9, 'min_samples_split': 18, 'min_samples_leaf': 12, 'max_features': 0.22666513551343553}. Best is trial 12 with value: 0.8910262381617763.\u001b[0m\n",
      "\u001b[32m[I 2024-06-22 11:25:59,431]\u001b[0m Trial 31 finished with value: 0.9139264089427106 and parameters: {'n_estimators': 1, 'max_depth': 10, 'min_samples_split': 20, 'min_samples_leaf': 13, 'max_features': 0.25739020113121147}. Best is trial 12 with value: 0.8910262381617763.\u001b[0m\n",
      "\u001b[32m[I 2024-06-22 11:25:59,525]\u001b[0m Trial 32 finished with value: 0.9402577239559076 and parameters: {'n_estimators': 9, 'max_depth': 10, 'min_samples_split': 20, 'min_samples_leaf': 13, 'max_features': 0.34476625329226096}. Best is trial 12 with value: 0.8910262381617763.\u001b[0m\n",
      "\u001b[32m[I 2024-06-22 11:25:59,773]\u001b[0m Trial 33 finished with value: 0.9437820214252446 and parameters: {'n_estimators': 18, 'max_depth': 9, 'min_samples_split': 19, 'min_samples_leaf': 9, 'max_features': 0.9979498713700319}. Best is trial 12 with value: 0.8910262381617763.\u001b[0m\n",
      "\u001b[32m[I 2024-06-22 11:26:00,394]\u001b[0m Trial 34 finished with value: 0.9578481602235677 and parameters: {'n_estimators': 100, 'max_depth': 10, 'min_samples_split': 16, 'min_samples_leaf': 5, 'max_features': 0.29270473063583735}. Best is trial 12 with value: 0.8910262381617763.\u001b[0m\n",
      "\u001b[32m[I 2024-06-22 11:26:00,438]\u001b[0m Trial 35 finished with value: 0.8840242198416396 and parameters: {'n_estimators': 1, 'max_depth': 9, 'min_samples_split': 17, 'min_samples_leaf': 15, 'max_features': 0.1617762463931276}. Best is trial 35 with value: 0.8840242198416396.\u001b[0m\n",
      "\u001b[32m[I 2024-06-22 11:26:00,509]\u001b[0m Trial 36 finished with value: 0.9420276354603322 and parameters: {'n_estimators': 7, 'max_depth': 8, 'min_samples_split': 15, 'min_samples_leaf': 16, 'max_features': 0.17131746089820943}. Best is trial 35 with value: 0.8840242198416396.\u001b[0m\n",
      "\u001b[32m[I 2024-06-22 11:26:00,665]\u001b[0m Trial 37 finished with value: 0.9455674584691817 and parameters: {'n_estimators': 13, 'max_depth': 9, 'min_samples_split': 14, 'min_samples_leaf': 15, 'max_features': 0.7730057100984165}. Best is trial 35 with value: 0.8840242198416396.\u001b[0m\n",
      "\u001b[32m[I 2024-06-22 11:26:00,807]\u001b[0m Trial 38 finished with value: 0.9385343890700202 and parameters: {'n_estimators': 26, 'max_depth': 2, 'min_samples_split': 17, 'min_samples_leaf': 17, 'max_features': 0.16078818112724327}. Best is trial 35 with value: 0.8840242198416396.\u001b[0m\n",
      "\u001b[32m[I 2024-06-22 11:26:00,957]\u001b[0m Trial 39 finished with value: 0.9402887750349324 and parameters: {'n_estimators': 18, 'max_depth': 7, 'min_samples_split': 17, 'min_samples_leaf': 14, 'max_features': 0.39398974622468236}. Best is trial 35 with value: 0.8840242198416396.\u001b[0m\n",
      "\u001b[32m[I 2024-06-22 11:26:01,866]\u001b[0m Trial 40 finished with value: 0.9508306163639186 and parameters: {'n_estimators': 87, 'max_depth': 9, 'min_samples_split': 15, 'min_samples_leaf': 12, 'max_features': 0.8755434042618926}. Best is trial 35 with value: 0.8840242198416396.\u001b[0m\n",
      "\u001b[32m[I 2024-06-22 11:26:01,943]\u001b[0m Trial 41 finished with value: 0.9385188635305077 and parameters: {'n_estimators': 7, 'max_depth': 10, 'min_samples_split': 19, 'min_samples_leaf': 15, 'max_features': 0.25753602393569797}. Best is trial 35 with value: 0.8840242198416396.\u001b[0m\n",
      "\u001b[32m[I 2024-06-22 11:26:01,991]\u001b[0m Trial 42 finished with value: 0.9315168452103709 and parameters: {'n_estimators': 1, 'max_depth': 10, 'min_samples_split': 20, 'min_samples_leaf': 13, 'max_features': 0.23212228264736726}. Best is trial 35 with value: 0.8840242198416396.\u001b[0m\n",
      "\u001b[32m[I 2024-06-22 11:26:02,071]\u001b[0m Trial 43 finished with value: 0.9279614966620089 and parameters: {'n_estimators': 6, 'max_depth': 10, 'min_samples_split': 18, 'min_samples_leaf': 16, 'max_features': 0.27183693143263493}. Best is trial 35 with value: 0.8840242198416396.\u001b[0m\n",
      "\u001b[32m[I 2024-06-22 11:26:02,117]\u001b[0m Trial 44 finished with value: 0.9139729855612483 and parameters: {'n_estimators': 1, 'max_depth': 9, 'min_samples_split': 13, 'min_samples_leaf': 10, 'max_features': 0.1900528032754145}. Best is trial 35 with value: 0.8840242198416396.\u001b[0m\n",
      "\u001b[32m[I 2024-06-22 11:26:02,227]\u001b[0m Trial 45 finished with value: 0.9437820214252446 and parameters: {'n_estimators': 10, 'max_depth': 8, 'min_samples_split': 19, 'min_samples_leaf': 14, 'max_features': 0.4342750053351446}. Best is trial 35 with value: 0.8840242198416396.\u001b[0m\n",
      "\u001b[32m[I 2024-06-22 11:26:02,347]\u001b[0m Trial 46 finished with value: 0.9367489520260829 and parameters: {'n_estimators': 13, 'max_depth': 10, 'min_samples_split': 12, 'min_samples_leaf': 19, 'max_features': 0.35319790750629537}. Best is trial 35 with value: 0.8840242198416396.\u001b[0m\n",
      "\u001b[32m[I 2024-06-22 11:26:02,438]\u001b[0m Trial 47 finished with value: 0.9455519329296692 and parameters: {'n_estimators': 5, 'max_depth': 9, 'min_samples_split': 18, 'min_samples_leaf': 3, 'max_features': 0.592056961279925}. Best is trial 35 with value: 0.8840242198416396.\u001b[0m\n",
      "\u001b[32m[I 2024-06-22 11:26:02,818]\u001b[0m Trial 48 finished with value: 0.9420276354603322 and parameters: {'n_estimators': 75, 'max_depth': 8, 'min_samples_split': 5, 'min_samples_leaf': 17, 'max_features': 0.14467566931988063}. Best is trial 35 with value: 0.8840242198416396.\u001b[0m\n",
      "\u001b[32m[I 2024-06-22 11:26:02,983]\u001b[0m Trial 49 finished with value: 0.9385343890700202 and parameters: {'n_estimators': 25, 'max_depth': 10, 'min_samples_split': 10, 'min_samples_leaf': 15, 'max_features': 0.2187555472787149}. Best is trial 35 with value: 0.8840242198416396.\u001b[0m\n",
      "\u001b[32m[I 2024-06-22 11:26:03,163]\u001b[0m Trial 50 finished with value: 0.9490451793199813 and parameters: {'n_estimators': 34, 'max_depth': 9, 'min_samples_split': 14, 'min_samples_leaf': 12, 'max_features': 0.10337837531496516}. Best is trial 35 with value: 0.8840242198416396.\u001b[0m\n",
      "\u001b[32m[I 2024-06-22 11:26:03,208]\u001b[0m Trial 51 finished with value: 0.9121099208197485 and parameters: {'n_estimators': 1, 'max_depth': 9, 'min_samples_split': 12, 'min_samples_leaf': 10, 'max_features': 0.1834213633910849}. Best is trial 35 with value: 0.8840242198416396.\u001b[0m\n",
      "\u001b[32m[I 2024-06-22 11:26:03,267]\u001b[0m Trial 52 finished with value: 0.943797546964757 and parameters: {'n_estimators': 4, 'max_depth': 9, 'min_samples_split': 15, 'min_samples_leaf': 8, 'max_features': 0.18219208878855922}. Best is trial 35 with value: 0.8840242198416396.\u001b[0m\n",
      "\u001b[32m[I 2024-06-22 11:26:03,396]\u001b[0m Trial 53 finished with value: 0.9490451793199813 and parameters: {'n_estimators': 16, 'max_depth': 4, 'min_samples_split': 10, 'min_samples_leaf': 10, 'max_features': 0.2676887310904878}. Best is trial 35 with value: 0.8840242198416396.\u001b[0m\n",
      "\u001b[32m[I 2024-06-22 11:26:03,649]\u001b[0m Trial 54 finished with value: 0.9508150908244062 and parameters: {'n_estimators': 48, 'max_depth': 8, 'min_samples_split': 16, 'min_samples_leaf': 11, 'max_features': 0.14352449641765408}. Best is trial 35 with value: 0.8840242198416396.\u001b[0m\n",
      "\u001b[32m[I 2024-06-22 11:26:03,746]\u001b[0m Trial 55 finished with value: 0.9420121099208197 and parameters: {'n_estimators': 11, 'max_depth': 10, 'min_samples_split': 12, 'min_samples_leaf': 6, 'max_features': 0.21099427222551528}. Best is trial 35 with value: 0.8840242198416396.\u001b[0m\n",
      "\u001b[32m[I 2024-06-22 11:26:03,820]\u001b[0m Trial 56 finished with value: 0.9385343890700202 and parameters: {'n_estimators': 4, 'max_depth': 7, 'min_samples_split': 7, 'min_samples_leaf': 16, 'max_features': 0.6699732670481757}. Best is trial 35 with value: 0.8840242198416396.\u001b[0m\n",
      "\u001b[32m[I 2024-06-22 11:26:03,868]\u001b[0m Trial 57 finished with value: 0.9121099208197485 and parameters: {'n_estimators': 1, 'max_depth': 10, 'min_samples_split': 17, 'min_samples_leaf': 14, 'max_features': 0.3246278472524464}. Best is trial 35 with value: 0.8840242198416396.\u001b[0m\n",
      "\u001b[32m[I 2024-06-22 11:26:03,935]\u001b[0m Trial 58 finished with value: 0.9525694767893185 and parameters: {'n_estimators': 5, 'max_depth': 9, 'min_samples_split': 13, 'min_samples_leaf': 18, 'max_features': 0.3141210563628908}. Best is trial 35 with value: 0.8840242198416396.\u001b[0m\n",
      "\u001b[32m[I 2024-06-22 11:26:04,010]\u001b[0m Trial 59 finished with value: 0.9455364073901569 and parameters: {'n_estimators': 8, 'max_depth': 8, 'min_samples_split': 17, 'min_samples_leaf': 19, 'max_features': 0.13777160564039287}. Best is trial 35 with value: 0.8840242198416396.\u001b[0m\n",
      "\u001b[32m[I 2024-06-22 11:26:04,117]\u001b[0m Trial 60 finished with value: 0.9420586865393572 and parameters: {'n_estimators': 11, 'max_depth': 10, 'min_samples_split': 3, 'min_samples_leaf': 14, 'max_features': 0.35454645275647545}. Best is trial 35 with value: 0.8840242198416396.\u001b[0m\n",
      "\u001b[32m[I 2024-06-22 11:26:04,168]\u001b[0m Trial 61 finished with value: 0.924468250271697 and parameters: {'n_estimators': 2, 'max_depth': 10, 'min_samples_split': 17, 'min_samples_leaf': 12, 'max_features': 0.2256462689135149}. Best is trial 35 with value: 0.8840242198416396.\u001b[0m\n",
      "\u001b[32m[I 2024-06-22 11:26:04,212]\u001b[0m Trial 62 finished with value: 0.9086632510479739 and parameters: {'n_estimators': 1, 'max_depth': 10, 'min_samples_split': 8, 'min_samples_leaf': 13, 'max_features': 0.29105252402565407}. Best is trial 35 with value: 0.8840242198416396.\u001b[0m\n",
      "\u001b[32m[I 2024-06-22 11:26:04,274]\u001b[0m Trial 63 finished with value: 0.9402732494954199 and parameters: {'n_estimators': 4, 'max_depth': 9, 'min_samples_split': 8, 'min_samples_leaf': 16, 'max_features': 0.29535352128779263}. Best is trial 35 with value: 0.8840242198416396.\u001b[0m\n",
      "\u001b[32m[I 2024-06-22 11:26:04,384]\u001b[0m Trial 64 finished with value: 0.9578326346840553 and parameters: {'n_estimators': 15, 'max_depth': 10, 'min_samples_split': 7, 'min_samples_leaf': 13, 'max_features': 0.19283824839178004}. Best is trial 35 with value: 0.8840242198416396.\u001b[0m\n",
      "\u001b[32m[I 2024-06-22 11:26:04,467]\u001b[0m Trial 65 finished with value: 0.9385343890700202 and parameters: {'n_estimators': 8, 'max_depth': 9, 'min_samples_split': 10, 'min_samples_leaf': 15, 'max_features': 0.24140175828758764}. Best is trial 35 with value: 0.8840242198416396.\u001b[0m\n",
      "\u001b[32m[I 2024-06-22 11:26:04,658]\u001b[0m Trial 66 finished with value: 0.943797546964757 and parameters: {'n_estimators': 21, 'max_depth': 10, 'min_samples_split': 8, 'min_samples_leaf': 14, 'max_features': 0.525516864231395}. Best is trial 35 with value: 0.8840242198416396.\u001b[0m\n",
      "\u001b[32m[I 2024-06-22 11:26:04,723]\u001b[0m Trial 67 finished with value: 0.935010091600683 and parameters: {'n_estimators': 4, 'max_depth': 9, 'min_samples_split': 6, 'min_samples_leaf': 17, 'max_features': 0.37336971060503815}. Best is trial 35 with value: 0.8840242198416396.\u001b[0m\n",
      "\u001b[32m[I 2024-06-22 11:26:04,841]\u001b[0m Trial 68 finished with value: 0.9490607048594939 and parameters: {'n_estimators': 12, 'max_depth': 10, 'min_samples_split': 9, 'min_samples_leaf': 11, 'max_features': 0.4332916187005149}. Best is trial 35 with value: 0.8840242198416396.\u001b[0m\n",
      "\u001b[32m[I 2024-06-22 11:26:04,935]\u001b[0m Trial 69 finished with value: 0.9385188635305077 and parameters: {'n_estimators': 9, 'max_depth': 9, 'min_samples_split': 6, 'min_samples_leaf': 10, 'max_features': 0.3311677719735879}. Best is trial 35 with value: 0.8840242198416396.\u001b[0m\n",
      "\u001b[32m[I 2024-06-22 11:26:04,983]\u001b[0m Trial 70 finished with value: 0.9015680794907623 and parameters: {'n_estimators': 1, 'max_depth': 8, 'min_samples_split': 16, 'min_samples_leaf': 13, 'max_features': 0.1644064139581226}. Best is trial 35 with value: 0.8840242198416396.\u001b[0m\n",
      "\u001b[32m[I 2024-06-22 11:26:05,028]\u001b[0m Trial 71 finished with value: 0.9156342182890855 and parameters: {'n_estimators': 1, 'max_depth': 8, 'min_samples_split': 16, 'min_samples_leaf': 13, 'max_features': 0.15561263463325015}. Best is trial 35 with value: 0.8840242198416396.\u001b[0m\n",
      "\u001b[32m[I 2024-06-22 11:26:05,102]\u001b[0m Trial 72 finished with value: 0.9473063188945815 and parameters: {'n_estimators': 6, 'max_depth': 10, 'min_samples_split': 16, 'min_samples_leaf': 14, 'max_features': 0.2882311260169783}. Best is trial 35 with value: 0.8840242198416396.\u001b[0m\n",
      "\u001b[32m[I 2024-06-22 11:26:05,407]\u001b[0m Trial 73 finished with value: 0.9437820214252446 and parameters: {'n_estimators': 58, 'max_depth': 9, 'min_samples_split': 15, 'min_samples_leaf': 16, 'max_features': 0.17308367812934616}. Best is trial 35 with value: 0.8840242198416396.\u001b[0m\n",
      "\u001b[32m[I 2024-06-22 11:26:05,460]\u001b[0m Trial 74 finished with value: 0.9244216736531594 and parameters: {'n_estimators': 3, 'max_depth': 9, 'min_samples_split': 17, 'min_samples_leaf': 15, 'max_features': 0.13051775081287986}. Best is trial 35 with value: 0.8840242198416396.\u001b[0m\n",
      "\u001b[32m[I 2024-06-22 11:26:05,505]\u001b[0m Trial 75 finished with value: 0.8998447446048751 and parameters: {'n_estimators': 1, 'max_depth': 10, 'min_samples_split': 18, 'min_samples_leaf': 12, 'max_features': 0.10089884522866463}. Best is trial 35 with value: 0.8840242198416396.\u001b[0m\n",
      "\u001b[32m[I 2024-06-22 11:26:05,618]\u001b[0m Trial 76 finished with value: 0.9490451793199813 and parameters: {'n_estimators': 18, 'max_depth': 3, 'min_samples_split': 19, 'min_samples_leaf': 12, 'max_features': 0.10122348629229538}. Best is trial 35 with value: 0.8840242198416396.\u001b[0m\n",
      "\u001b[32m[I 2024-06-22 11:26:05,699]\u001b[0m Trial 77 finished with value: 0.9437820214252446 and parameters: {'n_estimators': 8, 'max_depth': 10, 'min_samples_split': 18, 'min_samples_leaf': 13, 'max_features': 0.2080299832497554}. Best is trial 35 with value: 0.8840242198416396.\u001b[0m\n",
      "\u001b[32m[I 2024-06-22 11:26:05,794]\u001b[0m Trial 78 finished with value: 0.9420431609998448 and parameters: {'n_estimators': 13, 'max_depth': 8, 'min_samples_split': 18, 'min_samples_leaf': 8, 'max_features': 0.1215676409225131}. Best is trial 35 with value: 0.8840242198416396.\u001b[0m\n",
      "\u001b[32m[I 2024-06-22 11:26:05,863]\u001b[0m Trial 79 finished with value: 0.943797546964757 and parameters: {'n_estimators': 6, 'max_depth': 9, 'min_samples_split': 14, 'min_samples_leaf': 11, 'max_features': 0.1678887628063307}. Best is trial 35 with value: 0.8840242198416396.\u001b[0m\n",
      "\u001b[32m[I 2024-06-22 11:26:05,956]\u001b[0m Trial 80 finished with value: 0.9490451793199813 and parameters: {'n_estimators': 10, 'max_depth': 10, 'min_samples_split': 19, 'min_samples_leaf': 14, 'max_features': 0.24339153459809065}. Best is trial 35 with value: 0.8840242198416396.\u001b[0m\n",
      "\u001b[32m[I 2024-06-22 11:26:06,007]\u001b[0m Trial 81 finished with value: 0.924437199192672 and parameters: {'n_estimators': 2, 'max_depth': 10, 'min_samples_split': 17, 'min_samples_leaf': 12, 'max_features': 0.19859789170270958}. Best is trial 35 with value: 0.8840242198416396.\u001b[0m\n",
      "\u001b[32m[I 2024-06-22 11:26:06,067]\u001b[0m Trial 82 finished with value: 0.9437820214252446 and parameters: {'n_estimators': 4, 'max_depth': 10, 'min_samples_split': 16, 'min_samples_leaf': 15, 'max_features': 0.15488476706694648}. Best is trial 35 with value: 0.8840242198416396.\u001b[0m\n",
      "\u001b[32m[I 2024-06-22 11:26:06,115]\u001b[0m Trial 83 finished with value: 0.8928893029032758 and parameters: {'n_estimators': 1, 'max_depth': 10, 'min_samples_split': 18, 'min_samples_leaf': 13, 'max_features': 0.10007292375309843}. Best is trial 35 with value: 0.8840242198416396.\u001b[0m\n",
      "\u001b[32m[I 2024-06-22 11:26:06,189]\u001b[0m Trial 84 finished with value: 0.9297158826269213 and parameters: {'n_estimators': 7, 'max_depth': 9, 'min_samples_split': 18, 'min_samples_leaf': 13, 'max_features': 0.12116169215800746}. Best is trial 35 with value: 0.8840242198416396.\u001b[0m\n",
      "\u001b[32m[I 2024-06-22 11:26:06,238]\u001b[0m Trial 85 finished with value: 0.9086477255084615 and parameters: {'n_estimators': 1, 'max_depth': 10, 'min_samples_split': 9, 'min_samples_leaf': 10, 'max_features': 0.17869646237872064}. Best is trial 35 with value: 0.8840242198416396.\u001b[0m\n",
      "\u001b[32m[I 2024-06-22 11:26:06,302]\u001b[0m Trial 86 finished with value: 0.9385033379909953 and parameters: {'n_estimators': 4, 'max_depth': 10, 'min_samples_split': 9, 'min_samples_leaf': 12, 'max_features': 0.10769899244034276}. Best is trial 35 with value: 0.8840242198416396.\u001b[0m\n",
      "\u001b[32m[I 2024-06-22 11:26:06,373]\u001b[0m Trial 87 finished with value: 0.9402732494954199 and parameters: {'n_estimators': 6, 'max_depth': 10, 'min_samples_split': 8, 'min_samples_leaf': 11, 'max_features': 0.13095435246809398}. Best is trial 35 with value: 0.8840242198416396.\u001b[0m\n",
      "\u001b[32m[I 2024-06-22 11:26:06,487]\u001b[0m Trial 88 finished with value: 0.9542928116752056 and parameters: {'n_estimators': 14, 'max_depth': 10, 'min_samples_split': 10, 'min_samples_leaf': 9, 'max_features': 0.16409154353925381}. Best is trial 35 with value: 0.8840242198416396.\u001b[0m\n",
      "\u001b[32m[I 2024-06-22 11:26:06,633]\u001b[0m Trial 89 finished with value: 0.9385343890700202 and parameters: {'n_estimators': 10, 'max_depth': 10, 'min_samples_split': 19, 'min_samples_leaf': 13, 'max_features': 0.9226588438443557}. Best is trial 35 with value: 0.8840242198416396.\u001b[0m\n",
      "\u001b[32m[I 2024-06-22 11:26:06,839]\u001b[0m Trial 90 finished with value: 0.9385033379909953 and parameters: {'n_estimators': 40, 'max_depth': 7, 'min_samples_split': 9, 'min_samples_leaf': 17, 'max_features': 0.1006427611993188}. Best is trial 35 with value: 0.8840242198416396.\u001b[0m\n",
      "\u001b[32m[I 2024-06-22 11:26:06,885]\u001b[0m Trial 91 finished with value: 0.9279770222015215 and parameters: {'n_estimators': 1, 'max_depth': 10, 'min_samples_split': 17, 'min_samples_leaf': 14, 'max_features': 0.2551821314713122}. Best is trial 35 with value: 0.8840242198416396.\u001b[0m\n",
      "\u001b[32m[I 2024-06-22 11:26:06,946]\u001b[0m Trial 92 finished with value: 0.9367644775655954 and parameters: {'n_estimators': 3, 'max_depth': 6, 'min_samples_split': 18, 'min_samples_leaf': 15, 'max_features': 0.2753056088441326}. Best is trial 35 with value: 0.8840242198416396.\u001b[0m\n",
      "\u001b[32m[I 2024-06-22 11:26:06,994]\u001b[0m Trial 93 finished with value: 0.9262536873156343 and parameters: {'n_estimators': 1, 'max_depth': 9, 'min_samples_split': 11, 'min_samples_leaf': 8, 'max_features': 0.18169445311731713}. Best is trial 35 with value: 0.8840242198416396.\u001b[0m\n",
      "\u001b[32m[I 2024-06-22 11:26:07,080]\u001b[0m Trial 94 finished with value: 0.9437820214252446 and parameters: {'n_estimators': 7, 'max_depth': 9, 'min_samples_split': 15, 'min_samples_leaf': 10, 'max_features': 0.21999020600338898}. Best is trial 35 with value: 0.8840242198416396.\u001b[0m\n",
      "\u001b[32m[I 2024-06-22 11:26:07,151]\u001b[0m Trial 95 finished with value: 0.943797546964757 and parameters: {'n_estimators': 6, 'max_depth': 10, 'min_samples_split': 17, 'min_samples_leaf': 14, 'max_features': 0.14474230408042366}. Best is trial 35 with value: 0.8840242198416396.\u001b[0m\n",
      "\u001b[32m[I 2024-06-22 11:26:07,212]\u001b[0m Trial 96 finished with value: 0.9385033379909953 and parameters: {'n_estimators': 4, 'max_depth': 8, 'min_samples_split': 7, 'min_samples_leaf': 9, 'max_features': 0.1979255465379849}. Best is trial 35 with value: 0.8840242198416396.\u001b[0m\n",
      "\u001b[32m[I 2024-06-22 11:26:07,302]\u001b[0m Trial 97 finished with value: 0.9437820214252446 and parameters: {'n_estimators': 9, 'max_depth': 10, 'min_samples_split': 16, 'min_samples_leaf': 13, 'max_features': 0.2997526271180799}. Best is trial 35 with value: 0.8840242198416396.\u001b[0m\n",
      "\u001b[32m[I 2024-06-22 11:26:07,357]\u001b[0m Trial 98 finished with value: 0.9279770222015215 and parameters: {'n_estimators': 3, 'max_depth': 9, 'min_samples_split': 8, 'min_samples_leaf': 10, 'max_features': 0.18110972268208098}. Best is trial 35 with value: 0.8840242198416396.\u001b[0m\n",
      "\u001b[32m[I 2024-06-22 11:26:07,792]\u001b[0m Trial 99 finished with value: 0.9455519329296692 and parameters: {'n_estimators': 91, 'max_depth': 10, 'min_samples_split': 16, 'min_samples_leaf': 16, 'max_features': 0.13570368914330921}. Best is trial 35 with value: 0.8840242198416396.\u001b[0m\n"
     ]
    }
   ],
   "source": [
    "# 5. Run a hyperparameter search and log the results\n",
    "import optuna\n",
    "import mlflow\n",
    "from sklearn.ensemble import RandomForestClassifier\n",
    "from sklearn.model_selection import cross_val_score\n",
    "\n",
    "X, y = get_data()\n",
    "\n",
    "def optimize_rf(trial):\n",
    "    \n",
    "    with mlflow.start_run(run_name=f\"optuna-hp-{trial.number}-{datetime.datetime.now().strftime('%Y-%m-%d-%H-%M-%S')}\"):\n",
    "        # Set the hyperparameter values that we want to optimize\n",
    "        n_estimators = trial.suggest_int('n_estimators', 1, 100)\n",
    "        max_depth = trial.suggest_int('max_depth', 2, 10)\n",
    "        min_samples_split = trial.suggest_int('min_samples_split', 2, 20)\n",
    "        min_samples_leaf = trial.suggest_int('min_samples_leaf', 1, 20)\n",
    "        max_features = trial.suggest_float('max_features', 0.1, 1.0)\n",
    "        \n",
    "        \n",
    "        # Create a random forest classifier using the suggested hyperparameters\n",
    "        rf = RandomForestClassifier(n_estimators=n_estimators, max_depth=max_depth,\n",
    "                                    min_samples_split=min_samples_split,\n",
    "                                    min_samples_leaf=min_samples_leaf,\n",
    "                                    max_features=max_features)\n",
    "        \n",
    "        # Use cross-validation to evaluate the performance of the classifier\n",
    "        scores = cross_val_score(rf, X, y, cv=5)\n",
    "        \n",
    "        # Log the hyperparameters and cross-validation scores to MLflow\n",
    "        mlflow.log_param('n_estimators', n_estimators)\n",
    "        mlflow.log_param('max_depth', max_depth)\n",
    "        mlflow.log_param('min_samples_split', min_samples_split)\n",
    "        mlflow.log_param('min_samples_leaf', min_samples_leaf)\n",
    "        mlflow.log_param('max_features', max_features)\n",
    "        mlflow.log_metric('mean_cv_score', scores.mean())\n",
    "    \n",
    "    # Return the mean of the cross-validation scores as the objective value\n",
    "    # Valor que quiero maximizar/optimizar: \n",
    "    return scores.mean()\n",
    "\n",
    "# Create an Optuna study\n",
    "study = optuna.create_study()\n",
    "\n",
    "# Run the optimization loop\n",
    "study.optimize(optimize_rf, n_trials=100)\n",
    "\n",
    "# Get the best hyperparameter values\n",
    "best_params = study.best_params"
   ]
  },
  {
   "cell_type": "code",
   "execution_count": 11,
   "metadata": {},
   "outputs": [
    {
     "name": "stderr",
     "output_type": "stream",
     "text": [
      "Registered model 'random_forest_model' already exists. Creating a new version of this model...\n",
      "2024/06/22 11:42:39 INFO mlflow.tracking._model_registry.client: Waiting up to 300 seconds for model version to finish creation.                     Model name: random_forest_model, version 2\n",
      "Created version '2' of model 'random_forest_model'.\n"
     ]
    }
   ],
   "source": [
    "# 6. Register a model version using the best hyperparameters\n",
    "# Cual es el mejor modelo\n",
    "with mlflow.start_run(run_name=f\"optuna-hp-final\"):\n",
    "    # Create the final model using the best hyperparameters\n",
    "    final_model = RandomForestClassifier(**best_params)\n",
    "\n",
    "    # Train the final model on the entire dataset\n",
    "    final_model.fit(X, y)\n",
    "\n",
    "    # Log the model to the \"Models\" section\n",
    "    mlflow.sklearn.log_model(final_model, \"random_forest_model\", registered_model_name=\"random_forest_model\")\n",
    "\n"
   ]
  },
  {
   "cell_type": "code",
   "execution_count": 9,
   "metadata": {},
   "outputs": [
    {
     "data": {
      "text/plain": [
       "array([[1.799e+01, 1.038e+01, 1.228e+02, 1.001e+03, 1.184e-01, 2.776e-01,\n",
       "        3.001e-01, 1.471e-01, 2.419e-01, 7.871e-02, 1.095e+00, 9.053e-01,\n",
       "        8.589e+00, 1.534e+02, 6.399e-03, 4.904e-02, 5.373e-02, 1.587e-02,\n",
       "        3.003e-02, 6.193e-03, 2.538e+01, 1.733e+01, 1.846e+02, 2.019e+03,\n",
       "        1.622e-01, 6.656e-01, 7.119e-01, 2.654e-01, 4.601e-01, 1.189e-01],\n",
       "       [2.057e+01, 1.777e+01, 1.329e+02, 1.326e+03, 8.474e-02, 7.864e-02,\n",
       "        8.690e-02, 7.017e-02, 1.812e-01, 5.667e-02, 5.435e-01, 7.339e-01,\n",
       "        3.398e+00, 7.408e+01, 5.225e-03, 1.308e-02, 1.860e-02, 1.340e-02,\n",
       "        1.389e-02, 3.532e-03, 2.499e+01, 2.341e+01, 1.588e+02, 1.956e+03,\n",
       "        1.238e-01, 1.866e-01, 2.416e-01, 1.860e-01, 2.750e-01, 8.902e-02],\n",
       "       [1.969e+01, 2.125e+01, 1.300e+02, 1.203e+03, 1.096e-01, 1.599e-01,\n",
       "        1.974e-01, 1.279e-01, 2.069e-01, 5.999e-02, 7.456e-01, 7.869e-01,\n",
       "        4.585e+00, 9.403e+01, 6.150e-03, 4.006e-02, 3.832e-02, 2.058e-02,\n",
       "        2.250e-02, 4.571e-03, 2.357e+01, 2.553e+01, 1.525e+02, 1.709e+03,\n",
       "        1.444e-01, 4.245e-01, 4.504e-01, 2.430e-01, 3.613e-01, 8.758e-02],\n",
       "       [1.142e+01, 2.038e+01, 7.758e+01, 3.861e+02, 1.425e-01, 2.839e-01,\n",
       "        2.414e-01, 1.052e-01, 2.597e-01, 9.744e-02, 4.956e-01, 1.156e+00,\n",
       "        3.445e+00, 2.723e+01, 9.110e-03, 7.458e-02, 5.661e-02, 1.867e-02,\n",
       "        5.963e-02, 9.208e-03, 1.491e+01, 2.650e+01, 9.887e+01, 5.677e+02,\n",
       "        2.098e-01, 8.663e-01, 6.869e-01, 2.575e-01, 6.638e-01, 1.730e-01],\n",
       "       [2.029e+01, 1.434e+01, 1.351e+02, 1.297e+03, 1.003e-01, 1.328e-01,\n",
       "        1.980e-01, 1.043e-01, 1.809e-01, 5.883e-02, 7.572e-01, 7.813e-01,\n",
       "        5.438e+00, 9.444e+01, 1.149e-02, 2.461e-02, 5.688e-02, 1.885e-02,\n",
       "        1.756e-02, 5.115e-03, 2.254e+01, 1.667e+01, 1.522e+02, 1.575e+03,\n",
       "        1.374e-01, 2.050e-01, 4.000e-01, 1.625e-01, 2.364e-01, 7.678e-02]])"
      ]
     },
     "execution_count": 9,
     "metadata": {},
     "output_type": "execute_result"
    }
   ],
   "source": [
    "X[:5]"
   ]
  },
  {
   "cell_type": "code",
   "execution_count": 15,
   "metadata": {},
   "outputs": [
    {
     "data": {
      "text/plain": [
       "array([0, 0, 0, 0, 0])"
      ]
     },
     "execution_count": 15,
     "metadata": {},
     "output_type": "execute_result"
    }
   ],
   "source": [
    "# 7. Retrieve a model version and use it for prediction\n",
    "# ese modelo lo tengo en el model regsitry\n",
    "import mlflow.pyfunc\n",
    "\n",
    "model_name = \"random_forest_model\"\n",
    "model_version = 2\n",
    "\n",
    "model = mlflow.pyfunc.load_model(\n",
    "    model_uri=f\"models:/{model_name}/{model_version}\"\n",
    ")\n",
    "\n",
    "model.predict(X[:5])"
   ]
  },
  {
   "cell_type": "code",
   "execution_count": 17,
   "metadata": {},
   "outputs": [
    {
     "data": {
      "text/plain": [
       "array([0, 0, 0, 0, 0, 0, 0, 0, 0, 0])"
      ]
     },
     "execution_count": 17,
     "metadata": {},
     "output_type": "execute_result"
    }
   ],
   "source": [
    "import mlflow\n",
    "logged_model = 'runs:/ea6e03c6abf44b91a16853bedcf2be59/random_forest_model'\n",
    "\n",
    "# Load model as a PyFuncModel.\n",
    "loaded_model = mlflow.pyfunc.load_model(logged_model)\n",
    "\n",
    "# Predict on a Pandas DataFrame.\n",
    "import pandas as pd\n",
    "loaded_model.predict(X[:10])"
   ]
  },
  {
   "cell_type": "code",
   "execution_count": null,
   "metadata": {},
   "outputs": [],
   "source": [
    "# EXTRA: Deploy the model to a REST API endpoint with mlflow models serve\n",
    "# Set up env variables\n",
    "# export $(grep -v '^#' .env | xargs)\n",
    "# export MLFLOW_TRACKING_URI=http://localhost:5000"
   ]
  },
  {
   "cell_type": "code",
   "execution_count": null,
   "metadata": {},
   "outputs": [],
   "source": [
    "# Using python_function backend\n",
    "# mlflow models serve --model-uri s3://mlflow/1/e18a1a1695e844258403040ae6e6cb4b/artifacts/random_forest_model --env-manager=local -p 5002\n",
    "# Try it out with curl\n",
    "\n",
    "# curl -d '{\"inputs\":[[ 1.48722421,  1.02475923,  6.03974507, -1.72832624]]}' -H 'Content-Type: application/json'  localhost:5002/invocations"
   ]
  },
  {
   "cell_type": "code",
   "execution_count": null,
   "metadata": {},
   "outputs": [],
   "source": [
    "# Using MLServer backend\n",
    "# mlflow models serve --model-uri s3://mlflow/1/e18a1a1695e844258403040ae6e6cb4b/artifacts/random_forest_model --env-manager=local -p 5002 --enable-mlserver\n",
    "# Try it out with curl\n",
    "\n",
    "# curl -d '{\"inputs\":[[ 1.48722421,  1.02475923,  6.03974507, -1.72832624]]}' -H 'Content-Type: application/json'  localhost:5002/invocations\n",
    "\n"
   ]
  },
  {
   "cell_type": "code",
   "execution_count": null,
   "metadata": {},
   "outputs": [],
   "source": [
    "# Undeploy mlflow docker compose\n",
    "# docker-compose down"
   ]
  }
 ],
 "metadata": {
  "kernelspec": {
   "display_name": "productionalization",
   "language": "python",
   "name": "python3"
  },
  "language_info": {
   "codemirror_mode": {
    "name": "ipython",
    "version": 3
   },
   "file_extension": ".py",
   "mimetype": "text/x-python",
   "name": "python",
   "nbconvert_exporter": "python",
   "pygments_lexer": "ipython3",
   "version": "3.10.14"
  },
  "orig_nbformat": 4,
  "vscode": {
   "interpreter": {
    "hash": "5ed29f95de7cc8ac0f18a32ccae5fbddd3dba9010e060d505f2ebe31fc64f080"
   }
  }
 },
 "nbformat": 4,
 "nbformat_minor": 2
}
