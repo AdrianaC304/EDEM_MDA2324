{
  "cells": [
    {
      "cell_type": "markdown",
      "metadata": {
        "id": "s4YqddS_vlYH"
      },
      "source": [
        "# Aggregations and Grouping"
      ]
    },
    {
      "cell_type": "markdown",
      "metadata": {
        "id": "WwNMmP6GvoDQ"
      },
      "source": [
        "## Prerrequisites"
      ]
    },
    {
      "cell_type": "markdown",
      "metadata": {
        "id": "HvezyELEvqZH"
      },
      "source": [
        "Install Spark and Java in VM"
      ]
    },
    {
      "cell_type": "code",
      "execution_count": 12,
      "metadata": {
        "id": "7b0-USnDvst_"
      },
      "outputs": [],
      "source": [
        "# install Java8\n",
        "!apt-get install openjdk-8-jdk-headless -qq > /dev/null\n",
        "# download spark 3.5.0\n",
        "!wget -q https://apache.osuosl.org/spark/spark-3.5.0/spark-3.5.0-bin-hadoop3.tgz"
      ]
    },
    {
      "cell_type": "code",
      "execution_count": 13,
      "metadata": {
        "colab": {
          "base_uri": "https://localhost:8080/"
        },
        "id": "RnfbBxRivvWX",
        "outputId": "2803857f-6b7d-4dd2-edba-6146919835b0"
      },
      "outputs": [
        {
          "name": "stdout",
          "output_type": "stream",
          "text": [
            "total 391016\n",
            "drwxr-xr-x 1 root root      4096 Jan 11 17:02 \u001b[0m\u001b[01;34msample_data\u001b[0m/\n",
            "-rw-r--r-- 1 root root 400395283 Sep  9 02:10 spark-3.5.0-bin-hadoop3.tgz\n"
          ]
        }
      ],
      "source": [
        "ls -l # check the .tgz is there"
      ]
    },
    {
      "cell_type": "code",
      "execution_count": 14,
      "metadata": {
        "id": "IhVzl2vbvxhY"
      },
      "outputs": [],
      "source": [
        "# unzip it\n",
        "!tar xf spark-3.5.0-bin-hadoop3.tgz"
      ]
    },
    {
      "cell_type": "code",
      "execution_count": 15,
      "metadata": {
        "id": "8JuU0Aylvxeo"
      },
      "outputs": [],
      "source": [
        "!pip install -q findspark"
      ]
    },
    {
      "cell_type": "code",
      "execution_count": 16,
      "metadata": {
        "colab": {
          "base_uri": "https://localhost:8080/"
        },
        "id": "0hvlB3OlvzxX",
        "outputId": "a623064c-c25e-4213-dea6-2133fe2848e1"
      },
      "outputs": [
        {
          "name": "stdout",
          "output_type": "stream",
          "text": [
            "Requirement already satisfied: py4j in /usr/local/lib/python3.10/dist-packages (0.10.9.7)\n",
            "Requirement already satisfied: folium in /usr/local/lib/python3.10/dist-packages (0.14.0)\n",
            "Requirement already satisfied: branca>=0.6.0 in /usr/local/lib/python3.10/dist-packages (from folium) (0.7.0)\n",
            "Requirement already satisfied: jinja2>=2.9 in /usr/local/lib/python3.10/dist-packages (from folium) (3.1.2)\n",
            "Requirement already satisfied: numpy in /usr/local/lib/python3.10/dist-packages (from folium) (1.23.5)\n",
            "Requirement already satisfied: requests in /usr/local/lib/python3.10/dist-packages (from folium) (2.31.0)\n",
            "Requirement already satisfied: MarkupSafe>=2.0 in /usr/local/lib/python3.10/dist-packages (from jinja2>=2.9->folium) (2.1.3)\n",
            "Requirement already satisfied: charset-normalizer<4,>=2 in /usr/local/lib/python3.10/dist-packages (from requests->folium) (3.3.2)\n",
            "Requirement already satisfied: idna<4,>=2.5 in /usr/local/lib/python3.10/dist-packages (from requests->folium) (3.6)\n",
            "Requirement already satisfied: urllib3<3,>=1.21.1 in /usr/local/lib/python3.10/dist-packages (from requests->folium) (2.0.7)\n",
            "Requirement already satisfied: certifi>=2017.4.17 in /usr/local/lib/python3.10/dist-packages (from requests->folium) (2023.11.17)\n",
            "Requirement already satisfied: plotly in /usr/local/lib/python3.10/dist-packages (5.15.0)\n",
            "Requirement already satisfied: tenacity>=6.2.0 in /usr/local/lib/python3.10/dist-packages (from plotly) (8.2.3)\n",
            "Requirement already satisfied: packaging in /usr/local/lib/python3.10/dist-packages (from plotly) (23.2)\n"
          ]
        }
      ],
      "source": [
        "!pip install py4j\n",
        "\n",
        "# For maps\n",
        "!pip install folium\n",
        "!pip install plotly"
      ]
    },
    {
      "cell_type": "markdown",
      "metadata": {
        "id": "O0C9EzZbv4x4"
      },
      "source": [
        "Define the environment"
      ]
    },
    {
      "cell_type": "code",
      "execution_count": 17,
      "metadata": {
        "id": "Rf4ibNTdv7fv"
      },
      "outputs": [],
      "source": [
        "import os\n",
        "os.environ[\"JAVA_HOME\"] = \"/usr/lib/jvm/java-8-openjdk-amd64\"\n",
        "os.environ[\"SPARK_HOME\"] = \"/content/spark-3.5.0-bin-hadoop3\"\n",
        "os.environ[\"PYSPARK_SUBMIT_ARGS\"] = \"--master local[*] pyspark-shell\""
      ]
    },
    {
      "cell_type": "markdown",
      "metadata": {
        "id": "K90Ld_NkvlYI"
      },
      "source": [
        "Start Spark Session\n",
        "\n",
        "---"
      ]
    },
    {
      "cell_type": "code",
      "execution_count": 18,
      "metadata": {
        "colab": {
          "base_uri": "https://localhost:8080/",
          "height": 35
        },
        "id": "2Fg_PLR_vlYI",
        "outputId": "c9897067-28d6-493c-d742-e85993e3d0ad"
      },
      "outputs": [
        {
          "data": {
            "application/vnd.google.colaboratory.intrinsic+json": {
              "type": "string"
            },
            "text/plain": [
              "'3.5.0'"
            ]
          },
          "execution_count": 18,
          "metadata": {},
          "output_type": "execute_result"
        }
      ],
      "source": [
        "import findspark\n",
        "findspark.init(\"spark-3.5.0-bin-hadoop3\")# SPARK_HOME\n",
        "\n",
        "from pyspark.sql import SparkSession\n",
        "\n",
        "# create the session\n",
        "spark = SparkSession \\\n",
        "        .builder \\\n",
        "        .appName(\"Aggregations and Grouping\") \\\n",
        "        .master(\"local[*]\") \\\n",
        "        .getOrCreate()\n",
        "\n",
        "spark.version"
      ]
    },
    {
      "cell_type": "code",
      "execution_count": 19,
      "metadata": {
        "colab": {
          "base_uri": "https://localhost:8080/",
          "height": 221
        },
        "id": "RnamkNcgvlYJ",
        "outputId": "04595a53-c519-4a67-8135-9fa97e377304"
      },
      "outputs": [
        {
          "data": {
            "text/html": [
              "\n",
              "            <div>\n",
              "                <p><b>SparkSession - in-memory</b></p>\n",
              "                \n",
              "        <div>\n",
              "            <p><b>SparkContext</b></p>\n",
              "\n",
              "            <p><a href=\"http://bb7ec1648e5c:4040\">Spark UI</a></p>\n",
              "\n",
              "            <dl>\n",
              "              <dt>Version</dt>\n",
              "                <dd><code>v3.5.0</code></dd>\n",
              "              <dt>Master</dt>\n",
              "                <dd><code>local[*]</code></dd>\n",
              "              <dt>AppName</dt>\n",
              "                <dd><code>Aggregations and Grouping</code></dd>\n",
              "            </dl>\n",
              "        </div>\n",
              "        \n",
              "            </div>\n",
              "        "
            ],
            "text/plain": [
              "<pyspark.sql.session.SparkSession at 0x7f875f55d030>"
            ]
          },
          "execution_count": 19,
          "metadata": {},
          "output_type": "execute_result"
        }
      ],
      "source": [
        "spark"
      ]
    },
    {
      "cell_type": "code",
      "execution_count": 20,
      "metadata": {
        "id": "9AGniM-7vlYK"
      },
      "outputs": [],
      "source": [
        "# For Pandas conversion optimization\n",
        "spark.conf.set(\"spark.sql.execution.arrow.enabled\", \"true\")"
      ]
    },
    {
      "cell_type": "code",
      "execution_count": 21,
      "metadata": {
        "id": "e0DXUK1fvlYK"
      },
      "outputs": [],
      "source": [
        "# Import sql functions\n",
        "from pyspark.sql.functions import *"
      ]
    },
    {
      "cell_type": "markdown",
      "metadata": {
        "id": "1mCPp9fQwEif"
      },
      "source": [
        "Download datasets"
      ]
    },
    {
      "cell_type": "code",
      "execution_count": 22,
      "metadata": {
        "colab": {
          "base_uri": "https://localhost:8080/"
        },
        "id": "5xTARwq9wLgH",
        "outputId": "409d80ef-7930-4685-d0ca-56030cde9cf6"
      },
      "outputs": [
        {
          "name": "stdout",
          "output_type": "stream",
          "text": [
            "characters.csv\tmovies.json  vehicles.csv\n"
          ]
        }
      ],
      "source": [
        "!mkdir -p dataset\n",
        "!wget -q https://raw.githubusercontent.com/paponsro/spark_edem_2324/master/dataset/movies.json -P /dataset\n",
        "!wget -q https://github.com/masfworld/datahack_docker/raw/master/zeppelin/data/vehicles.csv -P /dataset\n",
        "!wget -q https://github.com/masfworld/datahack_docker/raw/master/zeppelin/data/characters.csv -P /dataset\n",
        "!ls /dataset"
      ]
    },
    {
      "cell_type": "markdown",
      "metadata": {
        "id": "yD4q57C_vlYK"
      },
      "source": [
        "Read JSON file\n",
        "\n",
        "---"
      ]
    },
    {
      "cell_type": "code",
      "execution_count": 23,
      "metadata": {
        "id": "dZWORhHKvlYK"
      },
      "outputs": [],
      "source": [
        "moviesDF = spark.read \\\n",
        "    .option(\"inferSchema\", True) \\\n",
        "    .json(\"/dataset/movies.json\")"
      ]
    },
    {
      "cell_type": "code",
      "execution_count": 24,
      "metadata": {
        "colab": {
          "base_uri": "https://localhost:8080/"
        },
        "id": "4h2S0ponvlYK",
        "outputId": "5b601978-abf0-487b-fb7f-62b27444cd33"
      },
      "outputs": [
        {
          "name": "stdout",
          "output_type": "stream",
          "text": [
            "+-------------+--------+-----------+-----------+----------+-----------+-----------+-----------------+------------+----------------------+----------------+------+----------------------+------------+--------+---------------+\n",
            "|Creative_Type|Director|Distributor|IMDB_Rating|IMDB_Votes|MPAA_Rating|Major_Genre|Production_Budget|Release_Date|Rotten_Tomatoes_Rating|Running_Time_min|Source|Title                 |US_DVD_Sales|US_Gross|Worldwide_Gross|\n",
            "+-------------+--------+-----------+-----------+----------+-----------+-----------+-----------------+------------+----------------------+----------------+------+----------------------+------------+--------+---------------+\n",
            "|NULL         |NULL    |Gramercy   |6.1        |1071      |R          |NULL       |8000000          |12-Jun-98   |NULL                  |NULL            |NULL  |The Land Girls        |NULL        |146083  |146083         |\n",
            "|NULL         |NULL    |Strand     |6.9        |207       |R          |Drama      |300000           |7-Aug-98    |NULL                  |NULL            |NULL  |First Love, Last Rites|NULL        |10876   |10876          |\n",
            "+-------------+--------+-----------+-----------+----------+-----------+-----------+-----------------+------------+----------------------+----------------+------+----------------------+------------+--------+---------------+\n",
            "only showing top 2 rows\n",
            "\n",
            "[StructField('Creative_Type', StringType(), True), StructField('Director', StringType(), True), StructField('Distributor', StringType(), True), StructField('IMDB_Rating', DoubleType(), True), StructField('IMDB_Votes', LongType(), True), StructField('MPAA_Rating', StringType(), True), StructField('Major_Genre', StringType(), True), StructField('Production_Budget', LongType(), True), StructField('Release_Date', StringType(), True), StructField('Rotten_Tomatoes_Rating', LongType(), True), StructField('Running_Time_min', LongType(), True), StructField('Source', StringType(), True), StructField('Title', StringType(), True), StructField('US_DVD_Sales', LongType(), True), StructField('US_Gross', LongType(), True), StructField('Worldwide_Gross', LongType(), True)]\n"
          ]
        },
        {
          "data": {
            "text/plain": [
              "['Creative_Type',\n",
              " 'Director',\n",
              " 'Distributor',\n",
              " 'IMDB_Rating',\n",
              " 'IMDB_Votes',\n",
              " 'MPAA_Rating',\n",
              " 'Major_Genre',\n",
              " 'Production_Budget',\n",
              " 'Release_Date',\n",
              " 'Rotten_Tomatoes_Rating',\n",
              " 'Running_Time_min',\n",
              " 'Source',\n",
              " 'Title',\n",
              " 'US_DVD_Sales',\n",
              " 'US_Gross',\n",
              " 'Worldwide_Gross']"
            ]
          },
          "execution_count": 24,
          "metadata": {},
          "output_type": "execute_result"
        }
      ],
      "source": [
        "moviesDF.show(2, False)\n",
        "print(moviesDF.schema.fields)\n",
        "moviesDF.columns"
      ]
    },
    {
      "cell_type": "markdown",
      "metadata": {
        "id": "M7Ab75vzvlYK"
      },
      "source": [
        "## Examples"
      ]
    },
    {
      "cell_type": "markdown",
      "metadata": {
        "id": "3L-vJzo5vlYK"
      },
      "source": [
        "Count"
      ]
    },
    {
      "cell_type": "code",
      "execution_count": 25,
      "metadata": {
        "colab": {
          "base_uri": "https://localhost:8080/"
        },
        "id": "eWoq50okvlYL",
        "outputId": "82f01503-82eb-4e03-e396-0238cf955079"
      },
      "outputs": [
        {
          "data": {
            "text/plain": [
              "3201"
            ]
          },
          "execution_count": 25,
          "metadata": {},
          "output_type": "execute_result"
        }
      ],
      "source": [
        "# df rows counting, including NULLS\n",
        "moviesDF.count()"
      ]
    },
    {
      "cell_type": "code",
      "execution_count": 26,
      "metadata": {
        "colab": {
          "base_uri": "https://localhost:8080/"
        },
        "id": "JwFlAfygvlYL",
        "outputId": "690e606f-6113-4765-d93c-a6671b38ebed"
      },
      "outputs": [
        {
          "name": "stdout",
          "output_type": "stream",
          "text": [
            "+------------------+\n",
            "|count(Major_Genre)|\n",
            "+------------------+\n",
            "|              2926|\n",
            "+------------------+\n",
            "\n"
          ]
        }
      ],
      "source": [
        "# using sql functions, NOT including NULLS\n",
        "genresCountDF = moviesDF.select(count(col(\"Major_Genre\")))\n",
        "genresCountDF.show()"
      ]
    },
    {
      "cell_type": "code",
      "execution_count": 27,
      "metadata": {
        "colab": {
          "base_uri": "https://localhost:8080/"
        },
        "id": "XOnzyw5pvlYL",
        "outputId": "b247a88a-ddfd-4b60-e8da-edf79f92627c"
      },
      "outputs": [
        {
          "name": "stdout",
          "output_type": "stream",
          "text": [
            "+---------------+\n",
            "|count(Director)|\n",
            "+---------------+\n",
            "|           1870|\n",
            "+---------------+\n",
            "\n"
          ]
        }
      ],
      "source": [
        "directorsCountDF = moviesDF.select(count(moviesDF.Director))\n",
        "directorsCountDF.show()"
      ]
    },
    {
      "cell_type": "code",
      "execution_count": 28,
      "metadata": {
        "colab": {
          "base_uri": "https://localhost:8080/"
        },
        "id": "I6zWJ2x8vlYL",
        "outputId": "9d27bd60-8b6b-4545-cb0f-0086a7425406"
      },
      "outputs": [
        {
          "name": "stdout",
          "output_type": "stream",
          "text": [
            "+----------+---------------+\n",
            "|countMajor|count(Director)|\n",
            "+----------+---------------+\n",
            "|      2926|           1870|\n",
            "+----------+---------------+\n",
            "\n"
          ]
        }
      ],
      "source": [
        "moviesDF.select(count(moviesDF.Major_Genre).alias(\"countMajor\"), count(moviesDF.Director)).show()"
      ]
    },
    {
      "cell_type": "code",
      "execution_count": 29,
      "metadata": {
        "colab": {
          "base_uri": "https://localhost:8080/"
        },
        "id": "nWOO2IBsvlYL",
        "outputId": "5269dcdd-4576-4aa0-d0f5-1eef5f1a99d8"
      },
      "outputs": [
        {
          "name": "stdout",
          "output_type": "stream",
          "text": [
            "+---------------+\n",
            "|count(Director)|\n",
            "+---------------+\n",
            "|           1870|\n",
            "+---------------+\n",
            "\n",
            "+-----+\n",
            "|count|\n",
            "+-----+\n",
            "| 1870|\n",
            "+-----+\n",
            "\n"
          ]
        }
      ],
      "source": [
        "#using SQL syntax\n",
        "moviesDF.select(expr(\"count(Director)\")).show()\n",
        "moviesDF.selectExpr(\"count(Director) as count\").show()"
      ]
    },
    {
      "cell_type": "code",
      "execution_count": 30,
      "metadata": {
        "id": "QOje34ZavlYL"
      },
      "outputs": [],
      "source": [
        "# using SQL\n",
        "moviesDF.createOrReplaceTempView(\"movies\")"
      ]
    },
    {
      "cell_type": "code",
      "execution_count": 31,
      "metadata": {
        "colab": {
          "base_uri": "https://localhost:8080/"
        },
        "id": "-UTqpjafvlYM",
        "outputId": "7113244f-ab22-4bf4-bec6-137a387caae4"
      },
      "outputs": [
        {
          "name": "stdout",
          "output_type": "stream",
          "text": [
            "+---------------+\n",
            "|count(Director)|\n",
            "+---------------+\n",
            "|           1870|\n",
            "+---------------+\n",
            "\n"
          ]
        }
      ],
      "source": [
        "spark.sql(\"select count(Director) from movies\").show()"
      ]
    },
    {
      "cell_type": "code",
      "execution_count": 32,
      "metadata": {
        "colab": {
          "base_uri": "https://localhost:8080/"
        },
        "id": "-bsgNq42vlYM",
        "outputId": "a7c4c678-f20a-4bc0-a72d-92082edd5f34"
      },
      "outputs": [
        {
          "name": "stdout",
          "output_type": "stream",
          "text": [
            "+-------------+------------------+\n",
            "|countDirector|count(Major_Genre)|\n",
            "+-------------+------------------+\n",
            "|         1870|              2926|\n",
            "+-------------+------------------+\n",
            "\n"
          ]
        }
      ],
      "source": [
        "spark.sql(\"select count(Director) as countDirector, count(Major_Genre) from movies\").show()"
      ]
    },
    {
      "cell_type": "markdown",
      "metadata": {
        "id": "7tD9smRhvlYM"
      },
      "source": [
        "Count Distinct"
      ]
    },
    {
      "cell_type": "code",
      "execution_count": 33,
      "metadata": {
        "colab": {
          "base_uri": "https://localhost:8080/"
        },
        "id": "ngR6WFUovlYM",
        "outputId": "364347ed-c2b6-4825-f95a-9c5a73929327"
      },
      "outputs": [
        {
          "name": "stdout",
          "output_type": "stream",
          "text": [
            "+---------------------------+\n",
            "|count(DISTINCT Major_Genre)|\n",
            "+---------------------------+\n",
            "|                         12|\n",
            "+---------------------------+\n",
            "\n"
          ]
        }
      ],
      "source": [
        "moviesDF.select(countDistinct(moviesDF.Major_Genre)).show()"
      ]
    },
    {
      "cell_type": "code",
      "execution_count": 34,
      "metadata": {
        "colab": {
          "base_uri": "https://localhost:8080/"
        },
        "id": "65m9Ev4MvlYM",
        "outputId": "f3c722bc-a699-4aa8-cb23-2cc29830ce09"
      },
      "outputs": [
        {
          "name": "stdout",
          "output_type": "stream",
          "text": [
            "+---------------------------+\n",
            "|count(DISTINCT Major_Genre)|\n",
            "+---------------------------+\n",
            "|                         12|\n",
            "+---------------------------+\n",
            "\n"
          ]
        }
      ],
      "source": [
        "spark.sql(\"select count(distinct Major_Genre) from movies\").show()"
      ]
    },
    {
      "cell_type": "markdown",
      "metadata": {
        "id": "wpwLzjsovlYM"
      },
      "source": [
        "Min and max"
      ]
    },
    {
      "cell_type": "code",
      "execution_count": 35,
      "metadata": {
        "colab": {
          "base_uri": "https://localhost:8080/"
        },
        "id": "FPOzkXPEvlYN",
        "outputId": "4ef7f008-8fde-4c41-b394-84aee37d54a7"
      },
      "outputs": [
        {
          "name": "stdout",
          "output_type": "stream",
          "text": [
            "+----------------------+----------------------+\n",
            "|min(Production_Budget)|max(Production_Budget)|\n",
            "+----------------------+----------------------+\n",
            "|                   218|             300000000|\n",
            "+----------------------+----------------------+\n",
            "\n"
          ]
        }
      ],
      "source": [
        "moviesDF.select(min(moviesDF.Production_Budget), max(moviesDF.Production_Budget)).show()"
      ]
    },
    {
      "cell_type": "code",
      "execution_count": 36,
      "metadata": {
        "colab": {
          "base_uri": "https://localhost:8080/"
        },
        "id": "pY6U_O43vlYN",
        "outputId": "23e4ecc7-8168-4e63-81dd-fd4ee79c1f57"
      },
      "outputs": [
        {
          "name": "stdout",
          "output_type": "stream",
          "text": [
            "+----------------------+\n",
            "|min(Production_Budget)|\n",
            "+----------------------+\n",
            "|                   218|\n",
            "+----------------------+\n",
            "\n"
          ]
        }
      ],
      "source": [
        "spark.sql(\"select min(Production_Budget) from movies\").show()"
      ]
    },
    {
      "cell_type": "markdown",
      "metadata": {
        "id": "ID9Q9X7EvlYN"
      },
      "source": [
        "Sum"
      ]
    },
    {
      "cell_type": "code",
      "execution_count": 37,
      "metadata": {
        "colab": {
          "base_uri": "https://localhost:8080/"
        },
        "id": "RHKzZO-6vlYN",
        "outputId": "3239010d-c547-4fb7-fb1e-91113a64cca9"
      },
      "outputs": [
        {
          "name": "stdout",
          "output_type": "stream",
          "text": [
            "+-----------+\n",
            "|    salesUS|\n",
            "+-----------+\n",
            "|19684472405|\n",
            "+-----------+\n",
            "\n",
            "+-----------+\n",
            "|      sales|\n",
            "+-----------+\n",
            "|19684472405|\n",
            "+-----------+\n",
            "\n"
          ]
        }
      ],
      "source": [
        "moviesDF.select(sum(moviesDF.US_DVD_Sales).alias(\"salesUS\")).show()\n",
        "moviesDF.selectExpr(\"sum(US_DVD_Sales) as sales\").show()"
      ]
    },
    {
      "cell_type": "markdown",
      "metadata": {
        "id": "Yq5pF3mLvlYN"
      },
      "source": [
        "Average"
      ]
    },
    {
      "cell_type": "code",
      "execution_count": 38,
      "metadata": {
        "colab": {
          "base_uri": "https://localhost:8080/"
        },
        "id": "fDVmzYTsvlYN",
        "outputId": "ac85dbf3-9e22-4b14-fd78-22fa200025f4"
      },
      "outputs": [
        {
          "name": "stdout",
          "output_type": "stream",
          "text": [
            "+----------------------+\n",
            "|avg(Production_Budget)|\n",
            "+----------------------+\n",
            "|    3.10691714484375E7|\n",
            "+----------------------+\n",
            "\n",
            "+----------------------+\n",
            "|avg(Production_Budget)|\n",
            "+----------------------+\n",
            "|    3.10691714484375E7|\n",
            "+----------------------+\n",
            "\n"
          ]
        }
      ],
      "source": [
        "moviesDF.select(avg(moviesDF.Production_Budget)).show()\n",
        "spark.sql(\"select avg(Production_Budget) from movies\").show()"
      ]
    },
    {
      "cell_type": "markdown",
      "metadata": {
        "id": "4RLegmspvlYN"
      },
      "source": [
        "Stats"
      ]
    },
    {
      "cell_type": "code",
      "execution_count": 39,
      "metadata": {
        "colab": {
          "base_uri": "https://localhost:8080/"
        },
        "id": "WTJQxCazvlYO",
        "outputId": "a64255c3-221c-4388-a96b-2c5dd6bed605"
      },
      "outputs": [
        {
          "name": "stdout",
          "output_type": "stream",
          "text": [
            "+---------------------------+\n",
            "|avg(Rotten_Tomatoes_Rating)|\n",
            "+---------------------------+\n",
            "|          54.33692373976734|\n",
            "+---------------------------+\n",
            "\n",
            "+------------------------------+\n",
            "|stddev(Rotten_Tomatoes_Rating)|\n",
            "+------------------------------+\n",
            "|             28.07659263787602|\n",
            "+------------------------------+\n",
            "\n"
          ]
        }
      ],
      "source": [
        "moviesDF.select(mean(moviesDF.Rotten_Tomatoes_Rating)).show()\n",
        "moviesDF.select(stddev(moviesDF.Rotten_Tomatoes_Rating)).show()"
      ]
    },
    {
      "cell_type": "markdown",
      "metadata": {
        "id": "BrbK9dgcvlYO"
      },
      "source": [
        "### Grouping\n",
        "\n",
        "---"
      ]
    },
    {
      "cell_type": "code",
      "execution_count": 40,
      "metadata": {
        "colab": {
          "base_uri": "https://localhost:8080/"
        },
        "id": "yYrN8U1ZvlYO",
        "outputId": "31b97f37-0e79-4f40-9594-c3872f65da1d"
      },
      "outputs": [
        {
          "name": "stdout",
          "output_type": "stream",
          "text": [
            "+-------------------+-----+\n",
            "|        Major_Genre|count|\n",
            "+-------------------+-----+\n",
            "|Concert/Performance|    5|\n",
            "|       Black Comedy|   36|\n",
            "|            Western|   36|\n",
            "|        Documentary|   43|\n",
            "|            Musical|   53|\n",
            "|    Romantic Comedy|  137|\n",
            "|             Horror|  219|\n",
            "|  Thriller/Suspense|  239|\n",
            "|          Adventure|  274|\n",
            "|               NULL|  275|\n",
            "|             Action|  420|\n",
            "|             Comedy|  675|\n",
            "|              Drama|  789|\n",
            "+-------------------+-----+\n",
            "\n"
          ]
        }
      ],
      "source": [
        "countByGenreGF = moviesDF.groupBy(moviesDF.Major_Genre).count().orderBy(\"count\")\n",
        "countByGenreGF.show()"
      ]
    },
    {
      "cell_type": "code",
      "execution_count": 41,
      "metadata": {
        "colab": {
          "base_uri": "https://localhost:8080/"
        },
        "id": "ZZO4-ux9vlYO",
        "outputId": "f0d1c28d-ee1b-47dd-8708-f7d2361a0964"
      },
      "outputs": [
        {
          "name": "stdout",
          "output_type": "stream",
          "text": [
            "+-------------------+-----+\n",
            "|        Major_Genre|count|\n",
            "+-------------------+-----+\n",
            "|Concert/Performance|    5|\n",
            "|       Black Comedy|   36|\n",
            "|            Western|   36|\n",
            "|        Documentary|   43|\n",
            "|            Musical|   53|\n",
            "|    Romantic Comedy|  137|\n",
            "|             Horror|  219|\n",
            "|  Thriller/Suspense|  239|\n",
            "|          Adventure|  274|\n",
            "|             Action|  420|\n",
            "|             Comedy|  675|\n",
            "|              Drama|  789|\n",
            "+-------------------+-----+\n",
            "\n"
          ]
        }
      ],
      "source": [
        "spark.sql(\"select Major_Genre, count(Major_Genre) as count from movies where Major_Genre is not null group by Major_Genre order by count\").show()"
      ]
    },
    {
      "cell_type": "code",
      "execution_count": 42,
      "metadata": {
        "colab": {
          "base_uri": "https://localhost:8080/"
        },
        "id": "eITO9H-gvlYO",
        "outputId": "b6aa7e80-0442-42df-c53b-f89ccf6fe3f2"
      },
      "outputs": [
        {
          "name": "stdout",
          "output_type": "stream",
          "text": [
            "+-------------------+------------------+\n",
            "|        Major_Genre|  avg(IMDB_Rating)|\n",
            "+-------------------+------------------+\n",
            "|        Documentary| 6.997297297297298|\n",
            "|            Western| 6.842857142857142|\n",
            "|       Black Comedy|6.8187500000000005|\n",
            "|              Drama| 6.773441734417339|\n",
            "|               NULL|  6.50082644628099|\n",
            "|            Musical|             6.448|\n",
            "|  Thriller/Suspense| 6.360944206008582|\n",
            "|          Adventure| 6.345019920318729|\n",
            "|Concert/Performance|             6.325|\n",
            "|             Action| 6.114795918367349|\n",
            "|    Romantic Comedy| 5.873076923076922|\n",
            "|             Comedy| 5.853858267716529|\n",
            "|             Horror|5.6760765550239185|\n",
            "+-------------------+------------------+\n",
            "\n"
          ]
        }
      ],
      "source": [
        "avgRatingByGenreDF = moviesDF.groupBy(col(\"Major_Genre\")).avg(\"IMDB_Rating\").orderBy(col(\"avg(IMDB_Rating)\").desc())\n",
        "avgRatingByGenreDF.show()"
      ]
    },
    {
      "cell_type": "code",
      "execution_count": 43,
      "metadata": {
        "colab": {
          "base_uri": "https://localhost:8080/"
        },
        "id": "vnmu7fuovlYO",
        "outputId": "ca1edc35-f7ac-4b57-9193-a8e1acc00eda"
      },
      "outputs": [
        {
          "name": "stdout",
          "output_type": "stream",
          "text": [
            "+-------------------+------------------+\n",
            "|        Major_Genre|               avg|\n",
            "+-------------------+------------------+\n",
            "|        Documentary| 6.997297297297298|\n",
            "|            Western| 6.842857142857142|\n",
            "|       Black Comedy|6.8187500000000005|\n",
            "|              Drama| 6.773441734417339|\n",
            "|               NULL|  6.50082644628099|\n",
            "|            Musical|             6.448|\n",
            "|  Thriller/Suspense| 6.360944206008582|\n",
            "|          Adventure| 6.345019920318729|\n",
            "|Concert/Performance|             6.325|\n",
            "|             Action| 6.114795918367349|\n",
            "|    Romantic Comedy| 5.873076923076922|\n",
            "|             Comedy| 5.853858267716529|\n",
            "|             Horror|5.6760765550239185|\n",
            "+-------------------+------------------+\n",
            "\n"
          ]
        }
      ],
      "source": [
        "moviesDF.groupBy(col(\"Major_Genre\")).agg(avg(\"IMDB_Rating\") \\\n",
        "    .alias(\"avg\")).orderBy(col(\"avg\").desc()).show()"
      ]
    },
    {
      "cell_type": "code",
      "execution_count": 44,
      "metadata": {
        "colab": {
          "base_uri": "https://localhost:8080/"
        },
        "id": "2fk-AjXIvlYO",
        "outputId": "aa2fed9d-eabd-4cfe-f7b7-dc92d58328a1"
      },
      "outputs": [
        {
          "name": "stdout",
          "output_type": "stream",
          "text": [
            "+-------------------+--------+------------------+\n",
            "|        Major_Genre|N_Movies|            rating|\n",
            "+-------------------+--------+------------------+\n",
            "|        Documentary|      43| 6.997297297297298|\n",
            "|            Western|      36| 6.842857142857142|\n",
            "|       Black Comedy|      36|6.8187500000000005|\n",
            "|              Drama|     789| 6.773441734417339|\n",
            "|               NULL|     275|  6.50082644628099|\n",
            "|            Musical|      53|             6.448|\n",
            "|  Thriller/Suspense|     239| 6.360944206008582|\n",
            "|          Adventure|     274| 6.345019920318729|\n",
            "|Concert/Performance|       5|             6.325|\n",
            "|             Action|     420| 6.114795918367349|\n",
            "|    Romantic Comedy|     137| 5.873076923076922|\n",
            "|             Comedy|     675| 5.853858267716529|\n",
            "|             Horror|     219|5.6760765550239185|\n",
            "+-------------------+--------+------------------+\n",
            "\n"
          ]
        }
      ],
      "source": [
        "aggregationsByGenreDF = moviesDF.groupBy(\"Major_Genre\") \\\n",
        "    .agg(\n",
        "        count(\"*\").alias(\"N_Movies\"),\n",
        "        avg(\"IMDB_Rating\").alias(\"rating\")\n",
        "    ) \\\n",
        "    .orderBy(col(\"rating\").desc()).show()"
      ]
    },
    {
      "cell_type": "markdown",
      "metadata": {
        "id": "cQ3xjlDxvlYP"
      },
      "source": [
        "## Exercises\n",
        "   1. Sum up all the worldwide profits of ALL the movies in the DF. Then sum the worldwide profits per director\n",
        "   2. Count how many distinct directors we have\n",
        "   3. Show the mean and standard deviation of US gross revenue for the movies (all the movies)\n",
        "   4. Compute the average IMDB rating and the average US gross revenue PER DIRECTOR\n",
        "   5. Sum up ALL the profits of ALL the movies in the DF. Then sum ALL the profits per director. Can you see null values? Why? How you can solve it?\n"
      ]
    },
    {
      "cell_type": "markdown",
      "metadata": {
        "id": "dzh5hcajvlYP"
      },
      "source": [
        "Exercise 1\n",
        "\n"
      ]
    },
    {
      "cell_type": "code",
      "execution_count": 47,
      "metadata": {
        "colab": {
          "base_uri": "https://localhost:8080/"
        },
        "id": "IEwpLSAW7QdN",
        "outputId": "d377092d-2c4c-4198-bb86-f7421147294e"
      },
      "outputs": [
        {
          "name": "stdout",
          "output_type": "stream",
          "text": [
            "+-----------------+\n",
            "|worldwide_profits|\n",
            "+-----------------+\n",
            "|      19684472405|\n",
            "+-----------------+\n",
            "\n",
            "+-----------+\n",
            "|      sales|\n",
            "+-----------+\n",
            "|19684472405|\n",
            "+-----------+\n",
            "\n",
            "Total Worldwide Profit: 272586820052\n",
            "+-------------------+------------+\n",
            "|           Director|Total_Profit|\n",
            "+-------------------+------------+\n",
            "|        John Milius|    52735525|\n",
            "|       Jim Jarmusch|     6030230|\n",
            "|    Sheldon Lettich|    29090445|\n",
            "|     Chan-wook Park|    23471871|\n",
            "|         King Vidor|    73702232|\n",
            "|         Jared Hess|   145338949|\n",
            "|     Michael Curtiz|    25462500|\n",
            "|      Steven Seagal|    38590458|\n",
            "|  Bradley Rust Grey|       25572|\n",
            "|          Jeff Burr|     1355728|\n",
            "|       Bob Rafelson|    45283350|\n",
            "|Paul Michael Glaser|    38122000|\n",
            "|      Griffin Dunne|    68450430|\n",
            "|        Mark Waters|   563693780|\n",
            "|  Richard Fleischer|    91054152|\n",
            "|     Akira Kurosawa|      320592|\n",
            "|          Mira Nair|    79806867|\n",
            "|  Denzel Washington|    53593730|\n",
            "| Billy Bob Thornton|    18120267|\n",
            "|     Emilio Estevez|    20597806|\n",
            "+-------------------+------------+\n",
            "only showing top 20 rows\n",
            "\n"
          ]
        }
      ],
      "source": [
        "moviesDF.select(sum(moviesDF.US_DVD_Sales).alias(\"worldwide_profits\")).show()\n",
        "moviesDF.selectExpr(\"sum(US_DVD_Sales) as sales\").show()\n",
        "\n",
        "#Profits from all the movies\n",
        "total_worldwide_profit = moviesDF.select(sum(\"Worldwide_Gross\").alias(\"Total_Worldwide_Profit\")).collect()[0][\"Total_Worldwide_Profit\"]\n",
        "\n",
        "#Pofits by director\n",
        "profits_per_director = moviesDF.groupBy(\"Director\").agg(sum(\"Worldwide_Gross\").alias(\"Total_Profit\"))\n",
        "\n",
        "# Show the total worldwide profit and profits per director\n",
        "print(f\"Total Worldwide Profit: {total_worldwide_profit}\")\n",
        "profits_per_director.show()\n",
        "\n"
      ]
    },
    {
      "cell_type": "markdown",
      "metadata": {
        "id": "x_KjX-qxvlYP"
      },
      "source": [
        "Exercise 2"
      ]
    },
    {
      "cell_type": "code",
      "execution_count": 52,
      "metadata": {
        "colab": {
          "base_uri": "https://localhost:8080/"
        },
        "id": "nuDLzu-I9NRK",
        "outputId": "d4668ee9-0824-4ce5-b372-ef5fd4c89955"
      },
      "outputs": [
        {
          "name": "stdout",
          "output_type": "stream",
          "text": [
            "+------------------------+\n",
            "|count(DISTINCT Director)|\n",
            "+------------------------+\n",
            "|                     550|\n",
            "+------------------------+\n",
            "\n",
            "+-------------------+-----+\n",
            "|           Director|count|\n",
            "+-------------------+-----+\n",
            "|        John Milius|    2|\n",
            "|       Jim Jarmusch|    1|\n",
            "|    Sheldon Lettich|    1|\n",
            "|     Chan-wook Park|    1|\n",
            "|         King Vidor|    4|\n",
            "|         Jared Hess|    2|\n",
            "|     Michael Curtiz|    3|\n",
            "|      Steven Seagal|    1|\n",
            "|  Bradley Rust Grey|    1|\n",
            "|          Jeff Burr|    1|\n",
            "|       Bob Rafelson|    2|\n",
            "|Paul Michael Glaser|    1|\n",
            "|      Griffin Dunne|    2|\n",
            "|        Mark Waters|    5|\n",
            "|  Richard Fleischer|    4|\n",
            "|     Akira Kurosawa|    2|\n",
            "|          Mira Nair|    6|\n",
            "|  Denzel Washington|    2|\n",
            "| Billy Bob Thornton|    1|\n",
            "|     Emilio Estevez|    1|\n",
            "+-------------------+-----+\n",
            "only showing top 20 rows\n",
            "\n",
            "+-------------------+--------+\n",
            "|           Director|count(1)|\n",
            "+-------------------+--------+\n",
            "|        John Milius|       2|\n",
            "|       Jim Jarmusch|       1|\n",
            "|    Sheldon Lettich|       1|\n",
            "|     Chan-wook Park|       1|\n",
            "|         King Vidor|       4|\n",
            "|         Jared Hess|       2|\n",
            "|     Michael Curtiz|       3|\n",
            "|      Steven Seagal|       1|\n",
            "|  Bradley Rust Grey|       1|\n",
            "|          Jeff Burr|       1|\n",
            "|       Bob Rafelson|       2|\n",
            "|Paul Michael Glaser|       1|\n",
            "|      Griffin Dunne|       2|\n",
            "|        Mark Waters|       5|\n",
            "|  Richard Fleischer|       4|\n",
            "|     Akira Kurosawa|       2|\n",
            "|          Mira Nair|       6|\n",
            "|  Denzel Washington|       2|\n",
            "| Billy Bob Thornton|       1|\n",
            "|     Emilio Estevez|       1|\n",
            "+-------------------+--------+\n",
            "only showing top 20 rows\n",
            "\n"
          ]
        }
      ],
      "source": [
        "distinct_directos_count=moviesDF.select(countDistinct(\"Director\")).show()\n",
        "\n",
        "moviesDF.groupBy(\"Director\").count().show()\n",
        "\n",
        "spark.sql(\"SELECT Director, COUNT(*) FROM movies GROUP BY Director\").show()\n",
        "\n"
      ]
    },
    {
      "cell_type": "markdown",
      "metadata": {
        "id": "x6iJ5GWlvlYQ"
      },
      "source": [
        "Exercise 3"
      ]
    },
    {
      "cell_type": "code",
      "execution_count": 56,
      "metadata": {
        "colab": {
          "base_uri": "https://localhost:8080/"
        },
        "id": "RqTlAESp_n6a",
        "outputId": "9a9ad4a1-bd55-4839-87cf-849711afad96"
      },
      "outputs": [
        {
          "name": "stdout",
          "output_type": "stream",
          "text": [
            "+--------------------+-------------------+\n",
            "|       Mean_US_Gross|    StdDev_US_Gross|\n",
            "+--------------------+-------------------+\n",
            "|4.4002085163744524E7|6.255531139066214E7|\n",
            "+--------------------+-------------------+\n",
            "\n",
            "+--------------------+\n",
            "|       avg(US_Gross)|\n",
            "+--------------------+\n",
            "|4.4002085163744524E7|\n",
            "+--------------------+\n",
            "\n",
            "+-------------------+\n",
            "|   stddev(US_Gross)|\n",
            "+-------------------+\n",
            "|6.255531139066214E7|\n",
            "+-------------------+\n",
            "\n"
          ]
        }
      ],
      "source": [
        "from pyspark.sql.functions import mean, stddev\n",
        "\n",
        "# Calculate the mean and sample standard deviation of US gross revenue\n",
        "moviesDF.agg(\n",
        "    mean(\"US_Gross\").alias(\"Mean_US_Gross\"),\n",
        "    stddev(\"US_Gross\").alias(\"StdDev_US_Gross\")\n",
        ").show()\n",
        "\n",
        "----------------------------------------------------------\n",
        "\n",
        "\n",
        "moviesDF.select(mean(moviesDF.US_Gross)).show()\n",
        "moviesDF.select(stddev(moviesDF.US_Gross)).show()\n"
      ]
    },
    {
      "cell_type": "markdown",
      "metadata": {
        "id": "qTyt8CotvlYQ"
      },
      "source": [
        "Exercise 4"
      ]
    },
    {
      "cell_type": "code",
      "execution_count": 83,
      "metadata": {
        "colab": {
          "base_uri": "https://localhost:8080/"
        },
        "id": "Ke8zfjMQBo3a",
        "outputId": "e0b23f4b-4f6e-4d27-d1e7-8639ad1c62d2"
      },
      "outputs": [
        {
          "name": "stdout",
          "output_type": "stream",
          "text": [
            "+-------------------+-------------------+----------------+\n",
            "|           Director|Average_IMDB_Rating|Average_US_Gross|\n",
            "+-------------------+-------------------+----------------+\n",
            "|        John Milius|               6.05|    2.63677625E7|\n",
            "|       Jim Jarmusch|               NULL|       3330230.0|\n",
            "|    Sheldon Lettich|                4.7|     2.9090445E7|\n",
            "|     Chan-wook Park|                7.7|        211667.0|\n",
            "|         King Vidor|              7.375|     1.5675558E7|\n",
            "|         Jared Hess|  6.300000000000001|    6.23694745E7|\n",
            "|     Michael Curtiz|                7.5|       8487500.0|\n",
            "|      Steven Seagal|                3.8|     3.8590458E7|\n",
            "|  Bradley Rust Grey|                6.2|         25572.0|\n",
            "|          Jeff Burr|                5.6|       1355728.0|\n",
            "|       Bob Rafelson|               6.25|       6641675.0|\n",
            "|Paul Michael Glaser|                6.4|        3.8122E7|\n",
            "|      Griffin Dunne|                5.5|    2.34819955E7|\n",
            "|        Mark Waters|  6.380000000000001|    6.52360426E7|\n",
            "|  Richard Fleischer|                4.9|     2.2763538E7|\n",
            "|     Akira Kurosawa|  8.100000000000001|        160296.0|\n",
            "|          Mira Nair| 6.5200000000000005|    1.07934975E7|\n",
            "|  Denzel Washington|  7.449999999999999|    2.56521445E7|\n",
            "| Billy Bob Thornton|                5.7|     1.5527125E7|\n",
            "|     Emilio Estevez|                7.1|     1.1242801E7|\n",
            "+-------------------+-------------------+----------------+\n",
            "only showing top 20 rows\n",
            "\n",
            "+-------------------+-------------------+----------------+\n",
            "|           Director|Average_IMDB_Rating|Average_US_Gross|\n",
            "+-------------------+-------------------+----------------+\n",
            "|        John Milius|               6.05|    2.63677625E7|\n",
            "|       Jim Jarmusch|               NULL|       3330230.0|\n",
            "|    Sheldon Lettich|                4.7|     2.9090445E7|\n",
            "|     Chan-wook Park|                7.7|        211667.0|\n",
            "|         King Vidor|              7.375|     1.5675558E7|\n",
            "|         Jared Hess|  6.300000000000001|    6.23694745E7|\n",
            "|     Michael Curtiz|                7.5|       8487500.0|\n",
            "|      Steven Seagal|                3.8|     3.8590458E7|\n",
            "|  Bradley Rust Grey|                6.2|         25572.0|\n",
            "|          Jeff Burr|                5.6|       1355728.0|\n",
            "|       Bob Rafelson|               6.25|       6641675.0|\n",
            "|Paul Michael Glaser|                6.4|        3.8122E7|\n",
            "|      Griffin Dunne|                5.5|    2.34819955E7|\n",
            "|        Mark Waters|  6.380000000000001|    6.52360426E7|\n",
            "|  Richard Fleischer|                4.9|     2.2763538E7|\n",
            "|     Akira Kurosawa|  8.100000000000001|        160296.0|\n",
            "|          Mira Nair| 6.5200000000000005|    1.07934975E7|\n",
            "|  Denzel Washington|  7.449999999999999|    2.56521445E7|\n",
            "| Billy Bob Thornton|                5.7|     1.5527125E7|\n",
            "|     Emilio Estevez|                7.1|     1.1242801E7|\n",
            "+-------------------+-------------------+----------------+\n",
            "only showing top 20 rows\n",
            "\n"
          ]
        }
      ],
      "source": [
        "# Group by director and calculate the averages\n",
        "moviesDF.groupBy(\"Director\").agg(\n",
        "    avg(\"IMDB_Rating\").alias(\"Average_IMDB_Rating\"),\n",
        "    avg(\"US_Gross\").alias(\"Average_US_Gross\")\n",
        ").show()\n",
        "\n",
        "\n",
        "# Calculate the average IMDB rating and US gross revenue per director\n",
        "spark.sql(\"\"\"\n",
        "    SELECT\n",
        "        Director,\n",
        "        AVG(IMDB_Rating) AS Average_IMDB_Rating,\n",
        "        AVG(US_Gross) AS Average_US_Gross\n",
        "    FROM movies\n",
        "    GROUP BY Director\n",
        "\"\"\").show()\n"
      ]
    },
    {
      "cell_type": "markdown",
      "metadata": {
        "id": "HOs_Y_y0vlYQ"
      },
      "source": [
        "Exercise 5"
      ]
    },
    {
      "cell_type": "code",
      "execution_count": 75,
      "metadata": {
        "colab": {
          "base_uri": "https://localhost:8080/"
        },
        "id": "zFNj7CVVDuBG",
        "outputId": "6294de01-9985-4b38-f8ec-02476350affc"
      },
      "outputs": [
        {
          "name": "stdout",
          "output_type": "stream",
          "text": [
            "+---------------+\n",
            "|Profits_Totales|\n",
            "+---------------+\n",
            "|   413129480065|\n",
            "+---------------+\n",
            "\n"
          ]
        }
      ],
      "source": [
        "\n",
        "movies_with_total_profit = moviesDF.withColumn(\"Total_Profit\", col(\"Worldwide_Gross\") + col(\"US_Gross\"))\n",
        "\n",
        "# Cambiar el allias\n",
        "total_profits = movies_with_total_profit.select(sum(\"Total_Profit\").alias(\"Profits_Totales\"))\n",
        "\n",
        "# Show the result\n",
        "total_profits.show()\n",
        "\n"
      ]
    }
  ],
  "metadata": {
    "colab": {
      "provenance": []
    },
    "kernelspec": {
      "display_name": "Python 3.10.0 64-bit",
      "language": "python",
      "name": "python3"
    },
    "language_info": {
      "codemirror_mode": {
        "name": "ipython",
        "version": 3
      },
      "file_extension": ".py",
      "mimetype": "text/x-python",
      "name": "python",
      "nbconvert_exporter": "python",
      "pygments_lexer": "ipython3",
      "version": "3.10.0"
    },
    "orig_nbformat": 4,
    "vscode": {
      "interpreter": {
        "hash": "ff1af5cda0bea4fe5c4ebc1f94ab9f13d8998f98d08e16d8aba48673b9d00116"
      }
    }
  },
  "nbformat": 4,
  "nbformat_minor": 0
}
