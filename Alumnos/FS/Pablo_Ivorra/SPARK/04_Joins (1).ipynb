{
  "cells": [
    {
      "cell_type": "markdown",
      "metadata": {
        "id": "h-3AXSJMxWcj"
      },
      "source": [
        "# Joins"
      ]
    },
    {
      "cell_type": "markdown",
      "metadata": {
        "id": "NqSTh04rxXpg"
      },
      "source": [
        "## Prerrequisites"
      ]
    },
    {
      "cell_type": "markdown",
      "metadata": {
        "id": "alWDpL2TxZt3"
      },
      "source": [
        "Install Spark and Java in VM"
      ]
    },
    {
      "cell_type": "code",
      "execution_count": 12,
      "metadata": {
        "id": "Mpinu0eRxcmO"
      },
      "outputs": [],
      "source": [
        "# install Java8\n",
        "!apt-get install openjdk-8-jdk-headless -qq > /dev/null\n",
        "# download spark 3.5.0\n",
        "!wget -q https://apache.osuosl.org/spark/spark-3.5.0/spark-3.5.0-bin-hadoop3.tgz"
      ]
    },
    {
      "cell_type": "code",
      "execution_count": 13,
      "metadata": {
        "colab": {
          "base_uri": "https://localhost:8080/"
        },
        "id": "Jz43HkUGxg_3",
        "outputId": "28f5da9d-040b-411e-8baf-0e35c1a5c585"
      },
      "outputs": [
        {
          "name": "stdout",
          "output_type": "stream",
          "text": [
            "total 391016\n",
            "drwxr-xr-x 1 root root      4096 Jan 11 17:02 \u001b[0m\u001b[01;34msample_data\u001b[0m/\n",
            "-rw-r--r-- 1 root root 400395283 Sep  9 02:10 spark-3.5.0-bin-hadoop3.tgz\n"
          ]
        }
      ],
      "source": [
        "ls -l # check the .tgz is there"
      ]
    },
    {
      "cell_type": "code",
      "execution_count": 14,
      "metadata": {
        "id": "FIMyGT7Axg9G"
      },
      "outputs": [],
      "source": [
        "# unzip it\n",
        "!tar xf spark-3.5.0-bin-hadoop3.tgz"
      ]
    },
    {
      "cell_type": "code",
      "execution_count": 15,
      "metadata": {
        "id": "BdJz2vonxjDe"
      },
      "outputs": [],
      "source": [
        "!pip install -q findspark"
      ]
    },
    {
      "cell_type": "code",
      "execution_count": 16,
      "metadata": {
        "colab": {
          "base_uri": "https://localhost:8080/"
        },
        "id": "vLrv7k6cxqVY",
        "outputId": "8b420e9f-2135-46c5-9f40-0213a108daf0"
      },
      "outputs": [
        {
          "name": "stdout",
          "output_type": "stream",
          "text": [
            "Requirement already satisfied: py4j in /usr/local/lib/python3.10/dist-packages (0.10.9.7)\n",
            "Requirement already satisfied: folium in /usr/local/lib/python3.10/dist-packages (0.14.0)\n",
            "Requirement already satisfied: branca>=0.6.0 in /usr/local/lib/python3.10/dist-packages (from folium) (0.7.0)\n",
            "Requirement already satisfied: jinja2>=2.9 in /usr/local/lib/python3.10/dist-packages (from folium) (3.1.2)\n",
            "Requirement already satisfied: numpy in /usr/local/lib/python3.10/dist-packages (from folium) (1.23.5)\n",
            "Requirement already satisfied: requests in /usr/local/lib/python3.10/dist-packages (from folium) (2.31.0)\n",
            "Requirement already satisfied: MarkupSafe>=2.0 in /usr/local/lib/python3.10/dist-packages (from jinja2>=2.9->folium) (2.1.3)\n",
            "Requirement already satisfied: charset-normalizer<4,>=2 in /usr/local/lib/python3.10/dist-packages (from requests->folium) (3.3.2)\n",
            "Requirement already satisfied: idna<4,>=2.5 in /usr/local/lib/python3.10/dist-packages (from requests->folium) (3.6)\n",
            "Requirement already satisfied: urllib3<3,>=1.21.1 in /usr/local/lib/python3.10/dist-packages (from requests->folium) (2.0.7)\n",
            "Requirement already satisfied: certifi>=2017.4.17 in /usr/local/lib/python3.10/dist-packages (from requests->folium) (2023.11.17)\n",
            "Requirement already satisfied: plotly in /usr/local/lib/python3.10/dist-packages (5.15.0)\n",
            "Requirement already satisfied: tenacity>=6.2.0 in /usr/local/lib/python3.10/dist-packages (from plotly) (8.2.3)\n",
            "Requirement already satisfied: packaging in /usr/local/lib/python3.10/dist-packages (from plotly) (23.2)\n"
          ]
        }
      ],
      "source": [
        "!pip install py4j\n",
        "\n",
        "# For maps\n",
        "!pip install folium\n",
        "!pip install plotly"
      ]
    },
    {
      "cell_type": "markdown",
      "metadata": {
        "id": "uYSsCnv5xoPq"
      },
      "source": [
        "Define the environment"
      ]
    },
    {
      "cell_type": "code",
      "execution_count": 17,
      "metadata": {
        "id": "ueuKeDHqxorP"
      },
      "outputs": [],
      "source": [
        "import os\n",
        "os.environ[\"JAVA_HOME\"] = \"/usr/lib/jvm/java-8-openjdk-amd64\"\n",
        "os.environ[\"SPARK_HOME\"] = \"/content/spark-3.5.0-bin-hadoop3\"\n",
        "os.environ[\"PYSPARK_SUBMIT_ARGS\"] = \"--master local[*] pyspark-shell\""
      ]
    },
    {
      "cell_type": "markdown",
      "metadata": {
        "id": "77nvOyd1xWck"
      },
      "source": [
        "Start Spark Session\n",
        "\n",
        "---"
      ]
    },
    {
      "cell_type": "code",
      "execution_count": 18,
      "metadata": {
        "colab": {
          "base_uri": "https://localhost:8080/",
          "height": 35
        },
        "id": "u9zEr_35xWck",
        "outputId": "037b5e7a-e76c-47c7-aa51-8b548059305a"
      },
      "outputs": [
        {
          "data": {
            "application/vnd.google.colaboratory.intrinsic+json": {
              "type": "string"
            },
            "text/plain": [
              "'3.5.0'"
            ]
          },
          "execution_count": 18,
          "metadata": {},
          "output_type": "execute_result"
        }
      ],
      "source": [
        "import findspark\n",
        "findspark.init(\"spark-3.5.0-bin-hadoop3\")# SPARK_HOME\n",
        "\n",
        "from pyspark.sql import SparkSession\n",
        "\n",
        "# create the session\n",
        "spark = SparkSession \\\n",
        "        .builder \\\n",
        "        .appName(\"Joins\") \\\n",
        "        .master(\"local[*]\") \\\n",
        "        .getOrCreate()\n",
        "\n",
        "spark.version"
      ]
    },
    {
      "cell_type": "code",
      "execution_count": 19,
      "metadata": {
        "colab": {
          "base_uri": "https://localhost:8080/",
          "height": 221
        },
        "id": "oS7E2-87xWcl",
        "outputId": "c92de36f-ccb4-4ab6-ffcf-b00ef4801d4a"
      },
      "outputs": [
        {
          "data": {
            "text/html": [
              "\n",
              "            <div>\n",
              "                <p><b>SparkSession - in-memory</b></p>\n",
              "                \n",
              "        <div>\n",
              "            <p><b>SparkContext</b></p>\n",
              "\n",
              "            <p><a href=\"http://cb586ecb105d:4040\">Spark UI</a></p>\n",
              "\n",
              "            <dl>\n",
              "              <dt>Version</dt>\n",
              "                <dd><code>v3.5.0</code></dd>\n",
              "              <dt>Master</dt>\n",
              "                <dd><code>local[*]</code></dd>\n",
              "              <dt>AppName</dt>\n",
              "                <dd><code>Joins</code></dd>\n",
              "            </dl>\n",
              "        </div>\n",
              "        \n",
              "            </div>\n",
              "        "
            ],
            "text/plain": [
              "<pyspark.sql.session.SparkSession at 0x7a70a4174220>"
            ]
          },
          "execution_count": 19,
          "metadata": {},
          "output_type": "execute_result"
        }
      ],
      "source": [
        "spark"
      ]
    },
    {
      "cell_type": "code",
      "execution_count": 20,
      "metadata": {
        "id": "75QZiN7GxWcl"
      },
      "outputs": [],
      "source": [
        "# Import sql functions\n",
        "from pyspark.sql.functions import *"
      ]
    },
    {
      "cell_type": "markdown",
      "metadata": {
        "id": "4Cx-_TA5xxVw"
      },
      "source": [
        "Download datasets"
      ]
    },
    {
      "cell_type": "code",
      "execution_count": 21,
      "metadata": {
        "colab": {
          "base_uri": "https://localhost:8080/"
        },
        "id": "IFP9OP4fxzGw",
        "outputId": "c591d0d7-7809-4ba9-c73b-c32bc1db5a8f"
      },
      "outputs": [
        {
          "name": "stdout",
          "output_type": "stream",
          "text": [
            "bands.json\t  employees.csv       guitars.json  titles.csv\n",
            "deptmanagers.csv  guitarPlayers.json  salaries.csv\n"
          ]
        }
      ],
      "source": [
        "!mkdir -p dataset\n",
        "!wget -q https://raw.githubusercontent.com/paponsro/spark_edem_2324/master/dataset/guitars.json -P /dataset\n",
        "!wget -q https://raw.githubusercontent.com/paponsro/spark_edem_2324/master/dataset/guitarPlayers.json -P /dataset\n",
        "!wget -q https://raw.githubusercontent.com/paponsro/spark_edem_2324/master/dataset/bands.json -P /dataset\n",
        "!wget -q https://raw.githubusercontent.com/paponsro/spark_edem_2324/master/dataset/employees.csv -P /dataset\n",
        "!wget -q https://raw.githubusercontent.com/paponsro/spark_edem_2324/master/dataset/salaries.csv -P /dataset\n",
        "!wget -q https://raw.githubusercontent.com/paponsro/spark_edem_2324/master/dataset/deptmanagers.csv -P /dataset\n",
        "!wget -q https://raw.githubusercontent.com/paponsro/spark_edem_2324/master/dataset/titles.csv -P /dataset\n",
        "!ls /dataset"
      ]
    },
    {
      "cell_type": "markdown",
      "metadata": {
        "id": "CPNyqoE8xWcm"
      },
      "source": [
        "Read JSONs"
      ]
    },
    {
      "cell_type": "code",
      "execution_count": 22,
      "metadata": {
        "id": "k9_4mNbqxWcm"
      },
      "outputs": [],
      "source": [
        "guitarsDF = spark.read \\\n",
        "    .option(\"inferSchema\", \"true\") \\\n",
        "    .json(\"/dataset/guitars.json\")\n",
        "\n",
        "guitaristsDF = spark.read \\\n",
        "    .option(\"inferSchema\", \"true\") \\\n",
        "    .json(\"/dataset/guitarPlayers.json\")\n",
        "\n",
        "bandsDF = spark.read \\\n",
        "    .option(\"inferSchema\", \"true\") \\\n",
        "    .json(\"/dataset/bands.json\")"
      ]
    },
    {
      "cell_type": "code",
      "execution_count": 23,
      "metadata": {
        "colab": {
          "base_uri": "https://localhost:8080/"
        },
        "id": "Aww2pe7sxWcm",
        "outputId": "451f883e-b07d-47c5-889d-6ad87de19213"
      },
      "outputs": [
        {
          "name": "stdout",
          "output_type": "stream",
          "text": [
            "+--------------------+---+------+------------+\n",
            "|          guitarType| id|  make|       model|\n",
            "+--------------------+---+------+------------+\n",
            "|Electric double-n...|  0|Gibson|    EDS-1275|\n",
            "|            Electric|  5|Fender|Stratocaster|\n",
            "|            Electric|  1|Gibson|          SG|\n",
            "+--------------------+---+------+------------+\n",
            "only showing top 3 rows\n",
            "\n",
            "+----+-------+---+------------+\n",
            "|band|guitars| id|        name|\n",
            "+----+-------+---+------------+\n",
            "|   0|    [0]|  0|  Jimmy Page|\n",
            "|   1|    [1]|  1| Angus Young|\n",
            "|   2| [1, 5]|  2|Eric Clapton|\n",
            "+----+-------+---+------------+\n",
            "only showing top 3 rows\n",
            "\n",
            "+-----------+---+------------+----+\n",
            "|   hometown| id|        name|year|\n",
            "+-----------+---+------------+----+\n",
            "|     Sydney|  1|       AC/DC|1973|\n",
            "|     London|  0|Led Zeppelin|1968|\n",
            "|Los Angeles|  3|   Metallica|1981|\n",
            "+-----------+---+------------+----+\n",
            "only showing top 3 rows\n",
            "\n"
          ]
        }
      ],
      "source": [
        "guitarsDF.show(3)\n",
        "guitaristsDF.show(3)\n",
        "bandsDF.show(3)\n"
      ]
    },
    {
      "cell_type": "markdown",
      "metadata": {
        "id": "opA3NFOfxWcm"
      },
      "source": [
        "## Examples"
      ]
    },
    {
      "cell_type": "markdown",
      "metadata": {
        "id": "GmN9q_ltxWcm"
      },
      "source": [
        "Inner Join =  everything from BOTH DFs for which there is a row in the right DF satisfying the condition\n"
      ]
    },
    {
      "cell_type": "code",
      "execution_count": 44,
      "metadata": {
        "colab": {
          "base_uri": "https://localhost:8080/"
        },
        "id": "voyAapmexWcm",
        "outputId": "edd5b28c-303d-4395-d4b3-14ff925a9301"
      },
      "outputs": [
        {
          "name": "stdout",
          "output_type": "stream",
          "text": [
            "+----+-------+---+------------+-----------+---+------------+----+\n",
            "|band|guitars| id|        name|   hometown| id|        name|year|\n",
            "+----+-------+---+------------+-----------+---+------------+----+\n",
            "|   1|    [1]|  1| Angus Young|     Sydney|  1|       AC/DC|1973|\n",
            "|   0|    [0]|  0|  Jimmy Page|     London|  0|Led Zeppelin|1968|\n",
            "|   3|    [3]|  3|Kirk Hammett|Los Angeles|  3|   Metallica|1981|\n",
            "+----+-------+---+------------+-----------+---+------------+----+\n",
            "\n"
          ]
        }
      ],
      "source": [
        "joinCondition = guitaristsDF.band == bandsDF.id\n",
        "guitaristsBandsDF = guitaristsDF.join(bandsDF, joinCondition, \"inner\")\n",
        "guitaristsBandsDF.show(3)"
      ]
    },
    {
      "cell_type": "code",
      "execution_count": 25,
      "metadata": {
        "id": "Ce_yS-kVxWcn"
      },
      "outputs": [],
      "source": [
        "# things to bear in mind\n",
        "# guitaristsBandsDF.select(\"id\", \"band\").show(3) # will crash because there are two columns named \"id\""
      ]
    },
    {
      "cell_type": "code",
      "execution_count": 26,
      "metadata": {
        "colab": {
          "base_uri": "https://localhost:8080/"
        },
        "id": "ZD_tC8GKxWcn",
        "outputId": "c7128051-5ed0-49dd-9909-2e69a0d994dd"
      },
      "outputs": [
        {
          "name": "stdout",
          "output_type": "stream",
          "text": [
            "+----+-------+---+------------+-----------+------+------------+----+\n",
            "|band|guitars| id|        name|   hometown|bandId|    bandName|year|\n",
            "+----+-------+---+------------+-----------+------+------------+----+\n",
            "|   1|    [1]|  1| Angus Young|     Sydney|     1|       AC/DC|1973|\n",
            "|   0|    [0]|  0|  Jimmy Page|     London|     0|Led Zeppelin|1968|\n",
            "|   3|    [3]|  3|Kirk Hammett|Los Angeles|     3|   Metallica|1981|\n",
            "+----+-------+---+------------+-----------+------+------------+----+\n",
            "\n"
          ]
        }
      ],
      "source": [
        "# you can rename the column\n",
        "bandsDFMod = bandsDF.withColumnRenamed(\"id\", \"bandId\") \\\n",
        "    .withColumnRenamed(\"name\", \"bandName\")\n",
        "guitaristsBandsDF2 = guitaristsDF.join(bandsDFMod,\n",
        "    guitaristsDF.band == bandsDFMod.bandId, \"inner\").orderBy(\"name\")\n",
        "guitaristsBandsDF2.show(3)\n",
        "\n",
        "# there are other options but it is the best practice if it is possible"
      ]
    },
    {
      "cell_type": "markdown",
      "metadata": {
        "id": "WyFeqM1yxWcn"
      },
      "source": [
        "Left Outer = everything in the inner join + all the rows in the LEFT DF, with nulls in where the data is missing"
      ]
    },
    {
      "cell_type": "code",
      "execution_count": 27,
      "metadata": {
        "colab": {
          "base_uri": "https://localhost:8080/"
        },
        "id": "wRt01JY-xWcn",
        "outputId": "b2afe7a9-c349-4ac6-9394-31f6c8f55acf"
      },
      "outputs": [
        {
          "name": "stdout",
          "output_type": "stream",
          "text": [
            "+----+-------+---+------------+--------+------+------------+----+\n",
            "|band|guitars| id|        name|hometown|bandId|    bandName|year|\n",
            "+----+-------+---+------------+--------+------+------------+----+\n",
            "|   1|    [1]|  1| Angus Young|  Sydney|     1|       AC/DC|1973|\n",
            "|   2| [1, 5]|  2|Eric Clapton|    NULL|  NULL|        NULL|NULL|\n",
            "|   0|    [0]|  0|  Jimmy Page|  London|     0|Led Zeppelin|1968|\n",
            "+----+-------+---+------------+--------+------+------------+----+\n",
            "only showing top 3 rows\n",
            "\n"
          ]
        }
      ],
      "source": [
        "joinCondition2 = guitaristsDF.band == bandsDFMod.bandId\n",
        "guitaristsDF.join(bandsDFMod, joinCondition2, \"left_outer\").orderBy(\"name\").show(3)\n",
        "# see nulls on Eric Calpton"
      ]
    },
    {
      "cell_type": "markdown",
      "metadata": {
        "id": "jx7loGmOxWcn"
      },
      "source": [
        "  Right Outer = everything in the inner join + all the rows in the RIGHT DF, with nulls in where the data is missing\n"
      ]
    },
    {
      "cell_type": "code",
      "execution_count": 28,
      "metadata": {
        "colab": {
          "base_uri": "https://localhost:8080/"
        },
        "id": "H0t5qxmDxWcn",
        "outputId": "266691db-17d0-4533-dbde-1e30e7825e7f"
      },
      "outputs": [
        {
          "name": "stdout",
          "output_type": "stream",
          "text": [
            "+----+-------+----+-----------+---------+------+------------+----+\n",
            "|band|guitars|  id|       name| hometown|bandId|    bandName|year|\n",
            "+----+-------+----+-----------+---------+------+------------+----+\n",
            "|NULL|   NULL|NULL|       NULL|Liverpool|     4| The Beatles|1960|\n",
            "|   1|    [1]|   1|Angus Young|   Sydney|     1|       AC/DC|1973|\n",
            "|   0|    [0]|   0| Jimmy Page|   London|     0|Led Zeppelin|1968|\n",
            "+----+-------+----+-----------+---------+------+------------+----+\n",
            "only showing top 3 rows\n",
            "\n"
          ]
        }
      ],
      "source": [
        "guitaristsDF.join(bandsDFMod, joinCondition2, \"right_outer\").orderBy(\"name\").show(3)\n",
        "# see nulls for The Beatles"
      ]
    },
    {
      "cell_type": "markdown",
      "metadata": {
        "id": "-YP3UfTaxWco"
      },
      "source": [
        " Outer Join = everything in the inner join + all the rows in BOTH DFs, with nulls in where the data is missing\n"
      ]
    },
    {
      "cell_type": "code",
      "execution_count": 29,
      "metadata": {
        "colab": {
          "base_uri": "https://localhost:8080/"
        },
        "id": "08o47mejxWco",
        "outputId": "b395d0ed-ea7f-4c66-f668-2f5d1d6adea7"
      },
      "outputs": [
        {
          "name": "stdout",
          "output_type": "stream",
          "text": [
            "+----+-------+----+------------+---------+------+-----------+----+\n",
            "|band|guitars|  id|        name| hometown|bandId|   bandName|year|\n",
            "+----+-------+----+------------+---------+------+-----------+----+\n",
            "|NULL|   NULL|NULL|        NULL|Liverpool|     4|The Beatles|1960|\n",
            "|   1|    [1]|   1| Angus Young|   Sydney|     1|      AC/DC|1973|\n",
            "|   2| [1, 5]|   2|Eric Clapton|     NULL|  NULL|       NULL|NULL|\n",
            "+----+-------+----+------------+---------+------+-----------+----+\n",
            "only showing top 3 rows\n",
            "\n"
          ]
        }
      ],
      "source": [
        "guitaristsDF.join(bandsDFMod, joinCondition2, \"outer\").orderBy(\"name\").show(3)\n",
        "# see nulls for The Beatles and Eric Clapton"
      ]
    },
    {
      "cell_type": "markdown",
      "metadata": {
        "id": "tMlhMqhExWco"
      },
      "source": [
        "  Semi-joins = everything in the LEFT DF for which there is a row in the right DF satisfying the condition\n"
      ]
    },
    {
      "cell_type": "code",
      "execution_count": 30,
      "metadata": {
        "colab": {
          "base_uri": "https://localhost:8080/"
        },
        "id": "XwLKWOASxWco",
        "outputId": "86998ddd-bbd2-43c8-cee8-4a4e8aee9811"
      },
      "outputs": [
        {
          "name": "stdout",
          "output_type": "stream",
          "text": [
            "+----+-------+---+------------+\n",
            "|band|guitars| id|        name|\n",
            "+----+-------+---+------------+\n",
            "|   1|    [1]|  1| Angus Young|\n",
            "|   0|    [0]|  0|  Jimmy Page|\n",
            "|   3|    [3]|  3|Kirk Hammett|\n",
            "+----+-------+---+------------+\n",
            "\n"
          ]
        }
      ],
      "source": [
        "guitaristsDF.join(bandsDFMod, joinCondition2, \"left_semi\").orderBy(\"name\").show(3)\n"
      ]
    },
    {
      "cell_type": "markdown",
      "metadata": {
        "id": "aiNQKxV5xWco"
      },
      "source": [
        "Anti-joins = everything in the LEFT DF for which there is NO row in the right DF satisfying the condition\n"
      ]
    },
    {
      "cell_type": "code",
      "execution_count": 31,
      "metadata": {
        "colab": {
          "base_uri": "https://localhost:8080/"
        },
        "id": "9jYq8v1exWco",
        "outputId": "5337e3be-4099-45ec-b6a6-d245a12aa320"
      },
      "outputs": [
        {
          "name": "stdout",
          "output_type": "stream",
          "text": [
            "+----+-------+---+------------+\n",
            "|band|guitars| id|        name|\n",
            "+----+-------+---+------------+\n",
            "|   2| [1, 5]|  2|Eric Clapton|\n",
            "+----+-------+---+------------+\n",
            "\n"
          ]
        }
      ],
      "source": [
        "guitaristsDF.join(bandsDFMod, joinCondition2, \"anti\").orderBy(\"name\").show(3)"
      ]
    },
    {
      "cell_type": "markdown",
      "metadata": {
        "id": "J0Gz1XFuxWcp"
      },
      "source": [
        "Cross-join = takes every instance in the LEFT DF and create a new one for every intance in the right DF (not very common)"
      ]
    },
    {
      "cell_type": "code",
      "execution_count": 32,
      "metadata": {
        "colab": {
          "base_uri": "https://localhost:8080/"
        },
        "id": "wfrjSgZlxWcp",
        "outputId": "16b34378-588c-481d-c1f5-82a988c695e4"
      },
      "outputs": [
        {
          "name": "stdout",
          "output_type": "stream",
          "text": [
            "+----+-------+---+------------+-----------+------+------------+----+\n",
            "|band|guitars| id|        name|   hometown|bandId|    bandName|year|\n",
            "+----+-------+---+------------+-----------+------+------------+----+\n",
            "|   0|    [0]|  0|  Jimmy Page|     Sydney|     1|       AC/DC|1973|\n",
            "|   1|    [1]|  1| Angus Young|     Sydney|     1|       AC/DC|1973|\n",
            "|   2| [1, 5]|  2|Eric Clapton|     Sydney|     1|       AC/DC|1973|\n",
            "|   3|    [3]|  3|Kirk Hammett|     Sydney|     1|       AC/DC|1973|\n",
            "|   0|    [0]|  0|  Jimmy Page|     London|     0|Led Zeppelin|1968|\n",
            "|   1|    [1]|  1| Angus Young|     London|     0|Led Zeppelin|1968|\n",
            "|   2| [1, 5]|  2|Eric Clapton|     London|     0|Led Zeppelin|1968|\n",
            "|   3|    [3]|  3|Kirk Hammett|     London|     0|Led Zeppelin|1968|\n",
            "|   0|    [0]|  0|  Jimmy Page|Los Angeles|     3|   Metallica|1981|\n",
            "|   1|    [1]|  1| Angus Young|Los Angeles|     3|   Metallica|1981|\n",
            "|   2| [1, 5]|  2|Eric Clapton|Los Angeles|     3|   Metallica|1981|\n",
            "|   3|    [3]|  3|Kirk Hammett|Los Angeles|     3|   Metallica|1981|\n",
            "|   0|    [0]|  0|  Jimmy Page|  Liverpool|     4| The Beatles|1960|\n",
            "|   1|    [1]|  1| Angus Young|  Liverpool|     4| The Beatles|1960|\n",
            "|   2| [1, 5]|  2|Eric Clapton|  Liverpool|     4| The Beatles|1960|\n",
            "|   3|    [3]|  3|Kirk Hammett|  Liverpool|     4| The Beatles|1960|\n",
            "+----+-------+---+------------+-----------+------+------------+----+\n",
            "\n"
          ]
        }
      ],
      "source": [
        "guitaristsDF.crossJoin(bandsDFMod).show(20)"
      ]
    },
    {
      "cell_type": "markdown",
      "metadata": {
        "id": "h85qdkxcxWcp"
      },
      "source": [
        "*Union Join is just an Union (note it only works if both DFs have the same schema)"
      ]
    },
    {
      "cell_type": "markdown",
      "metadata": {
        "id": "SB3QfnzsxWcp"
      },
      "source": [
        "## Exercises\n",
        "1. Read employees.csv, deptmanagers.csv, salaries.csv and titles.csv to a DFs.\n",
        "2. Show all employees and their max salary (there can be different salaries registered for the same employee)\n",
        "3. Show all employees who were never managers. Check it by getting all the managers and checking that they are not in the table\n",
        "4. Find the job titles of the best paid 10 employees in the company (note that there can be different titles registered for the same employee)"
      ]
    },
    {
      "cell_type": "markdown",
      "metadata": {
        "id": "QqKb-sgFxWcp"
      },
      "source": [
        "Exercise 1"
      ]
    },
    {
      "cell_type": "code",
      "execution_count": 100,
      "metadata": {
        "colab": {
          "base_uri": "https://localhost:8080/"
        },
        "id": "sj_u_emQYMSb",
        "outputId": "6fbdf765-d728-4e5f-e358-409994bb0e23"
      },
      "outputs": [
        {
          "name": "stdout",
          "output_type": "stream",
          "text": [
            "+------+----------+----------+---------+------+----------+\n",
            "|emp_no|birth_date|first_name|last_name|gender| hire_date|\n",
            "+------+----------+----------+---------+------+----------+\n",
            "| 10010|1963-06-01| Duangkaew| Piveteau|     F|1989-08-24|\n",
            "| 10020|1952-12-24|    Mayuko|  Warwick|     M|1991-01-26|\n",
            "| 10030|1958-07-14|     Elvis|  Demeyer|     M|1994-02-17|\n",
            "+------+----------+----------+---------+------+----------+\n",
            "only showing top 3 rows\n",
            "\n",
            "+------+------+----------+----------+\n",
            "|emp_no|salary| from_date|   to_date|\n",
            "+------+------+----------+----------+\n",
            "| 10010| 72488|1996-11-24|1997-11-24|\n",
            "| 10010| 74347|1997-11-24|1998-11-24|\n",
            "| 10010| 75405|1998-11-24|1999-11-24|\n",
            "+------+------+----------+----------+\n",
            "only showing top 3 rows\n",
            "\n",
            "+-------+------+----------+----------+\n",
            "|dept_no|emp_no| from_date|   to_date|\n",
            "+-------+------+----------+----------+\n",
            "|   d004|110420|1996-08-30|9999-01-01|\n",
            "|   d006|110800|1991-09-12|1994-06-28|\n",
            "|   d008|111400|1985-01-01|1991-04-08|\n",
            "+-------+------+----------+----------+\n",
            "\n",
            "+------+--------+----------+----------+\n",
            "|emp_no|   title| from_date|   to_date|\n",
            "+------+--------+----------+----------+\n",
            "| 10010|Engineer|1996-11-24|9999-01-01|\n",
            "| 10020|Engineer|1997-12-30|9999-01-01|\n",
            "| 10030|Engineer|1994-02-17|2001-02-17|\n",
            "+------+--------+----------+----------+\n",
            "only showing top 3 rows\n",
            "\n",
            "root\n",
            " |-- emp_no: string (nullable = true)\n",
            " |-- birth_date: string (nullable = true)\n",
            " |-- first_name: string (nullable = true)\n",
            " |-- last_name: string (nullable = true)\n",
            " |-- gender: string (nullable = true)\n",
            " |--  hire_date: string (nullable = true)\n",
            "\n",
            "root\n",
            " |-- emp_no: string (nullable = true)\n",
            " |-- salary: string (nullable = true)\n",
            " |-- from_date: string (nullable = true)\n",
            " |-- to_date: string (nullable = true)\n",
            "\n",
            "root\n",
            " |-- dept_no: string (nullable = true)\n",
            " |-- emp_no: string (nullable = true)\n",
            " |-- from_date: string (nullable = true)\n",
            " |-- to_date: string (nullable = true)\n",
            "\n",
            "root\n",
            " |-- emp_no: string (nullable = true)\n",
            " |-- title: string (nullable = true)\n",
            " |-- from_date: string (nullable = true)\n",
            " |-- to_date: string (nullable = true)\n",
            "\n"
          ]
        }
      ],
      "source": [
        "employeesDF = spark.read.option(\"header\", \"true\").csv(\"/dataset/employees.csv\")\n",
        "employeesDF.show(3)\n",
        "\n",
        "salariesDF = spark.read.option(\"header\", \"true\").csv(\"/dataset/salaries.csv\")\n",
        "salariesDF.show(3)\n",
        "\n",
        "deptManagersDF = spark.read.option(\"header\", \"true\").csv(\"/dataset/deptmanagers.csv\")\n",
        "deptManagersDF.show(3)\n",
        "\n",
        "\n",
        "titlesDF = spark.read.option(\"header\", \"true\").csv(\"/dataset/titles.csv\")\n",
        "titlesDF.show(3)\n",
        "\n",
        "\n",
        "# Schema for employeesDF\n",
        "employeesDF.printSchema()\n",
        "\n",
        "# Schema for salariesDF\n",
        "salariesDF.printSchema()\n",
        "\n",
        "# Schema for managersDF\n",
        "deptManagersDF.printSchema()\n",
        "\n",
        "# Schema for titlesDF\n",
        "titlesDF.printSchema()\n",
        "\n"
      ]
    },
    {
      "cell_type": "markdown",
      "metadata": {
        "id": "PYtLrSQ2xWcq"
      },
      "source": [
        "Exercise 2"
      ]
    },
    {
      "cell_type": "code",
      "execution_count": 48,
      "metadata": {
        "colab": {
          "base_uri": "https://localhost:8080/"
        },
        "id": "AFGK6wJYb6QT",
        "outputId": "58825503-2ca0-495e-e0f8-493976c59123"
      },
      "outputs": [
        {
          "name": "stdout",
          "output_type": "stream",
          "text": [
            "+------+----------+----------+---------+------+----------+------+------+----------+----------+\n",
            "|emp_no|birth_date|first_name|last_name|gender| hire_date|emp_no|salary| from_date|   to_date|\n",
            "+------+----------+----------+---------+------+----------+------+------+----------+----------+\n",
            "| 10010|1963-06-01| Duangkaew| Piveteau|     F|1989-08-24| 10010| 72488|1996-11-24|1997-11-24|\n",
            "| 10010|1963-06-01| Duangkaew| Piveteau|     F|1989-08-24| 10010| 74347|1997-11-24|1998-11-24|\n",
            "| 10010|1963-06-01| Duangkaew| Piveteau|     F|1989-08-24| 10010| 75405|1998-11-24|1999-11-24|\n",
            "+------+----------+----------+---------+------+----------+------+------+----------+----------+\n",
            "only showing top 3 rows\n",
            "\n",
            "+------+----------+\n",
            "|emp_no|max_salary|\n",
            "+------+----------+\n",
            "|100000|     64961|\n",
            "|100010|     71957|\n",
            "|100020|     70286|\n",
            "|100030|     66691|\n",
            "|100040|     78188|\n",
            "|100050|     73868|\n",
            "|100060|     72296|\n",
            "|100070|     75646|\n",
            "|100080|     59704|\n",
            "|100090|     70825|\n",
            "| 10010|     80324|\n",
            "|100100|     69230|\n",
            "|100110|     68536|\n",
            "|100120|     55616|\n",
            "|100130|     82277|\n",
            "|100140|     59302|\n",
            "|100150|     64628|\n",
            "|100160|     62840|\n",
            "|100170|     74530|\n",
            "|100180|     92741|\n",
            "+------+----------+\n",
            "only showing top 20 rows\n",
            "\n"
          ]
        }
      ],
      "source": [
        "#Show all employees and their max salary (there can be different salaries registered for the same employee)\n",
        "\n",
        "joinCondition = employeesDF.emp_no == salariesDF.emp_no\n",
        "employeesDFsalariesDF = employeesDF.join(salariesDF, joinCondition, \"inner\")\n",
        "employeesDFsalariesDF.show(3)\n",
        "\n",
        "# Group by employeesDF's emp_no and calculate the maximum salary for each employee\n",
        "max_salariesDF = employeesDFsalariesDF.groupBy(employeesDF.emp_no).agg(max(\"salary\").alias(\"max_salary\"))\n",
        "\n",
        "# Show the result\n",
        "max_salariesDF.show()\n",
        "\n"
      ]
    },
    {
      "cell_type": "markdown",
      "metadata": {
        "id": "RntnapY5xWcq"
      },
      "source": [
        "Exercise 3"
      ]
    },
    {
      "cell_type": "code",
      "execution_count": 83,
      "metadata": {
        "colab": {
          "base_uri": "https://localhost:8080/"
        },
        "id": "_3jwm9KbessD",
        "outputId": "7305f0dc-6767-4f80-b085-9514de5f9f94"
      },
      "outputs": [
        {
          "name": "stdout",
          "output_type": "stream",
          "text": [
            "+------+----------+----------+---------+------+----------+\n",
            "|emp_no|birth_date|first_name|last_name|gender| hire_date|\n",
            "+------+----------+----------+---------+------+----------+\n",
            "+------+----------+----------+---------+------+----------+\n",
            "\n"
          ]
        }
      ],
      "source": [
        "joinCondition = employeesDF.emp_no == deptManagersDF.emp_no\n",
        "employeesDFManagersDF = employeesDF.join(deptManagersDF, joinCondition, \"left_anti\")\n",
        "\n",
        "employeesDFManagersDF.filter(col(\"emp_no\")== 110420).show(3)"
      ]
    },
    {
      "cell_type": "markdown",
      "metadata": {
        "id": "LSokNABIxWcr"
      },
      "source": [
        "Exercise 4"
      ]
    },
    {
      "cell_type": "code",
      "execution_count": 104,
      "metadata": {
        "colab": {
          "base_uri": "https://localhost:8080/"
        },
        "id": "aID9GX5HkEHo",
        "outputId": "c663395c-eed5-4e35-a9bd-6ae1d531c91b"
      },
      "outputs": [
        {
          "name": "stdout",
          "output_type": "stream",
          "text": [
            "+------+----------+----------+---------+------+----------+------+------+----------+----------+\n",
            "|emp_no|birth_date|first_name|last_name|gender| hire_date|emp_no|salary| from_date|   to_date|\n",
            "+------+----------+----------+---------+------+----------+------+------+----------+----------+\n",
            "| 10010|1963-06-01| Duangkaew| Piveteau|     F|1989-08-24| 10010| 72488|1996-11-24|1997-11-24|\n",
            "| 10010|1963-06-01| Duangkaew| Piveteau|     F|1989-08-24| 10010| 74347|1997-11-24|1998-11-24|\n",
            "| 10010|1963-06-01| Duangkaew| Piveteau|     F|1989-08-24| 10010| 75405|1998-11-24|1999-11-24|\n",
            "+------+----------+----------+---------+------+----------+------+------+----------+----------+\n",
            "only showing top 3 rows\n",
            "\n",
            "+----------+-----------+----------+\n",
            "|first_name|  last_name|max_salary|\n",
            "+----------+-----------+----------+\n",
            "|    Yuping| Pargaonkar|     99999|\n",
            "|      Mads|   Henseler|     99999|\n",
            "|      Suvo|     Kakkar|     99998|\n",
            "|   Odoardo|  Muchinsky|     99998|\n",
            "|     Jinya|      Kroha|     99997|\n",
            "|      Duro|     Zaiane|     99996|\n",
            "|     Aloke|   Schieder|     99993|\n",
            "|   Bezalel|    Dalphin|     99991|\n",
            "|  Godehard|  Braunmuhl|     99986|\n",
            "|  Tetsurou|Mayerwieser|     99984|\n",
            "+----------+-----------+----------+\n",
            "only showing top 10 rows\n",
            "\n",
            "bands.json\t  employees.csv       guitars.json  titles.csv\n",
            "deptmanagers.csv  guitarPlayers.json  salaries.csv\n"
          ]
        }
      ],
      "source": [
        "\n",
        "#Show all employees and their max salary (there can be different salaries registered for the same employee)\n",
        "joinCondition = employeesDF.emp_no == salariesDF.emp_no\n",
        "employeesDFsalariesDF = employeesDF.join(salariesDF, joinCondition, \"inner\")\n",
        "employeesDFsalariesDF.show(3)\n",
        "\n",
        "# Group by first_name and last_name, calculate the maximum salary for each group\n",
        "max_salary_per_employee = employeesDFsalariesDF.groupBy(\"first_name\", \"last_name\") \\\n",
        "    .agg(F.max(\"salary\").alias(\"max_salary\"))\n",
        "\n",
        "# Order the results in descending order of maximum salary\n",
        "sorted_max_salaries = max_salary_per_employee.orderBy(F.desc(\"max_salary\"))\n",
        "\n",
        "# Show the top 10 employees with their maximum salary\n",
        "sorted_max_salaries.show(10)\n",
        "\n",
        "\n",
        "!ls /dataset"
      ]
    }
  ],
  "metadata": {
    "colab": {
      "provenance": []
    },
    "kernelspec": {
      "display_name": "Python 3.10.0 64-bit",
      "language": "python",
      "name": "python3"
    },
    "language_info": {
      "codemirror_mode": {
        "name": "ipython",
        "version": 3
      },
      "file_extension": ".py",
      "mimetype": "text/x-python",
      "name": "python",
      "nbconvert_exporter": "python",
      "pygments_lexer": "ipython3",
      "version": "3.10.0"
    },
    "orig_nbformat": 4,
    "vscode": {
      "interpreter": {
        "hash": "ff1af5cda0bea4fe5c4ebc1f94ab9f13d8998f98d08e16d8aba48673b9d00116"
      }
    }
  },
  "nbformat": 4,
  "nbformat_minor": 0
}
